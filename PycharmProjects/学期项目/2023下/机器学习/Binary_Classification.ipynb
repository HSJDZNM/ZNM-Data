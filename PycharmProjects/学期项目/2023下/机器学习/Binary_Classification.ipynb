{
  "cells": [
    {
      "cell_type": "code",
      "execution_count": null,
      "metadata": {
        "cellView": "form",
        "id": "wDlWLbfkJtvu"
      },
      "outputs": [],
      "source": [
        "#@title Copyright 2020 Google LLC. Double-click here for license information.\n",
        "# Licensed under the Apache License, Version 2.0 (the \"License\");\n",
        "# you may not use this file except in compliance with the License.\n",
        "# You may obtain a copy of the License at\n",
        "#\n",
        "# https://www.apache.org/licenses/LICENSE-2.0\n",
        "#\n",
        "# Unless required by applicable law or agreed to in writing, software\n",
        "# distributed under the License is distributed on an \"AS IS\" BASIS,\n",
        "# WITHOUT WARRANTIES OR CONDITIONS OF ANY KIND, either express or implied.\n",
        "# See the License for the specific language governing permissions and\n",
        "# limitations under the License."
      ]
    },
    {
      "cell_type": "markdown",
      "metadata": {
        "id": "T4r2z30vJSbA"
      },
      "source": [
        "# Colabs\n",
        "\n",
        "Machine Learning Crash Course uses Colaboratories (Colabs) for all programming exercises. Colab is Google's implementation of [Jupyter Notebook](https://jupyter.org/). For more information about Colabs and how to use them, go to [Welcome to Colaboratory](https://research.google.com/colaboratory)."
      ]
    },
    {
      "cell_type": "markdown",
      "metadata": {
        "id": "TL5y5fY9Jy_x"
      },
      "source": [
        "# Binary Classification\n",
        "\n",
        "So far, you've only created regression models. That is, you created models that produced floating-point predictions, such as, \"houses in this neighborhood costs N thousand dollars.\" In this Colab, you'll create and evaluate a binary [classification model](https://developers.google.com/machine-learning/glossary/#classification_model).  That is, you'll create a model that answers a binary question. In this exercise, the binary question will be, \"Are houses in this neighborhood above a certain price?\"\n",
        "\n",
        "# 二元分类\n",
        "\n",
        "到目前为止，您只创建了回归模型。也就是说，您创建了生成浮点预测的模型，例如，“此社区的房屋成本为 N 千美元”。在此 Colab 中，您将创建并评估二进制 [分类模型]（https://developers.google.com/machine 学习/词汇表/#classification_model）。 也就是说，您将创建一个回答二进制问题的模型。在本练习中，二元问题将是，“这个社区的房屋是否高于某个价格？\n",
        "\n"
      ]
    },
    {
      "cell_type": "markdown",
      "metadata": {
        "id": "yuw8rRl9lNuL"
      },
      "source": [
        "## Learning Objectives:\n",
        "\n",
        "After doing this Colab, you'll know how to:\n",
        "\n",
        "  * Convert a regression question into a classification question.\n",
        "  * Modify the classification threshold and determine how that modification influences the model.\n",
        "  * Experiment with different classification metrics to determine your model's effectiveness.\n",
        "\n",
        "## 学习目标：\n",
        "\n",
        "完成此 Colab 操作后，您将了解如何：\n",
        "\n",
        "* 将回归问题转换为分类问题。\n",
        "  * 修改分类阈值并确定该修改如何影响模型。\n",
        "  * 尝试不同的分类指标来确定模型的有效性。"
      ]
    },
    {
      "cell_type": "markdown",
      "metadata": {
        "id": "44OdC-OglN9D"
      },
      "source": [
        "## The Dataset\n",
        "  \n",
        "Like several of the previous Colabs, this Colab uses the [California Housing Dataset](https://developers.google.com/machine-learning/crash-course/california-housing-data-description)."
      ]
    },
    {
      "cell_type": "markdown",
      "metadata": {
        "id": "5iuw6-JOGf7I"
      },
      "source": [
        "## Call the import statements\n",
        "\n",
        "The following code imports the necessary modules.\n",
        "\n",
        "## 调用导入语句\n",
        "\n",
        "以下代码导入必要的模块。"
      ]
    },
    {
      "cell_type": "code",
      "execution_count": 1,
      "metadata": {
        "cellView": "form",
        "id": "9n9_cTveKmse"
      },
      "outputs": [
        {
          "name": "stdout",
          "output_type": "stream",
          "text": [
            "Ran the import statements.\n"
          ]
        }
      ],
      "source": [
        "#@title Load the imports\n",
        "\n",
        "import numpy as np\n",
        "import pandas as pd\n",
        "import tensorflow as tf\n",
        "from tensorflow.keras import layers\n",
        "from matplotlib import pyplot as plt\n",
        "\n",
        "# The following lines adjust the granularity of reporting.\n",
        "pd.options.display.max_rows = 10\n",
        "pd.options.display.float_format = \"{:.1f}\".format\n",
        "# tf.keras.backend.set_floatx('float32')\n",
        "\n",
        "print(\"Ran the import statements.\")"
      ]
    },
    {
      "cell_type": "markdown",
      "metadata": {
        "id": "X_TaJhU4KcuY"
      },
      "source": [
        "## Load the datasets from the internet\n",
        "\n",
        "The following code cell loads the separate .csv files and creates the following two pandas DataFrames:\n",
        "\n",
        "* `train_df`, which contains the training set\n",
        "* `test_df`, which contains the test set"
      ]
    },
    {
      "cell_type": "code",
      "execution_count": 4,
      "metadata": {
        "id": "JZlvdpyYKx7V"
      },
      "outputs": [
        {
          "data": {
            "text/html": [
              "<div>\n",
              "<style scoped>\n",
              "    .dataframe tbody tr th:only-of-type {\n",
              "        vertical-align: middle;\n",
              "    }\n",
              "\n",
              "    .dataframe tbody tr th {\n",
              "        vertical-align: top;\n",
              "    }\n",
              "\n",
              "    .dataframe thead th {\n",
              "        text-align: right;\n",
              "    }\n",
              "</style>\n",
              "<table border=\"1\" class=\"dataframe\">\n",
              "  <thead>\n",
              "    <tr style=\"text-align: right;\">\n",
              "      <th></th>\n",
              "      <th>longitude</th>\n",
              "      <th>latitude</th>\n",
              "      <th>housing_median_age</th>\n",
              "      <th>total_rooms</th>\n",
              "      <th>total_bedrooms</th>\n",
              "      <th>population</th>\n",
              "      <th>households</th>\n",
              "      <th>median_income</th>\n",
              "      <th>median_house_value</th>\n",
              "    </tr>\n",
              "  </thead>\n",
              "  <tbody>\n",
              "    <tr>\n",
              "      <th>8545</th>\n",
              "      <td>-118.5</td>\n",
              "      <td>34.0</td>\n",
              "      <td>32.0</td>\n",
              "      <td>6365.0</td>\n",
              "      <td>1784.0</td>\n",
              "      <td>2767.0</td>\n",
              "      <td>1698.0</td>\n",
              "      <td>3.6</td>\n",
              "      <td>383300.0</td>\n",
              "    </tr>\n",
              "    <tr>\n",
              "      <th>15521</th>\n",
              "      <td>-122.3</td>\n",
              "      <td>39.1</td>\n",
              "      <td>10.0</td>\n",
              "      <td>266.0</td>\n",
              "      <td>62.0</td>\n",
              "      <td>154.0</td>\n",
              "      <td>49.0</td>\n",
              "      <td>2.2</td>\n",
              "      <td>75000.0</td>\n",
              "    </tr>\n",
              "    <tr>\n",
              "      <th>11845</th>\n",
              "      <td>-121.3</td>\n",
              "      <td>38.6</td>\n",
              "      <td>22.0</td>\n",
              "      <td>3273.0</td>\n",
              "      <td>480.0</td>\n",
              "      <td>1151.0</td>\n",
              "      <td>463.0</td>\n",
              "      <td>8.1</td>\n",
              "      <td>380000.0</td>\n",
              "    </tr>\n",
              "    <tr>\n",
              "      <th>9826</th>\n",
              "      <td>-119.7</td>\n",
              "      <td>34.4</td>\n",
              "      <td>52.0</td>\n",
              "      <td>302.0</td>\n",
              "      <td>112.0</td>\n",
              "      <td>392.0</td>\n",
              "      <td>114.0</td>\n",
              "      <td>2.6</td>\n",
              "      <td>258300.0</td>\n",
              "    </tr>\n",
              "    <tr>\n",
              "      <th>7281</th>\n",
              "      <td>-118.3</td>\n",
              "      <td>34.0</td>\n",
              "      <td>52.0</td>\n",
              "      <td>2194.0</td>\n",
              "      <td>504.0</td>\n",
              "      <td>997.0</td>\n",
              "      <td>438.0</td>\n",
              "      <td>2.7</td>\n",
              "      <td>259400.0</td>\n",
              "    </tr>\n",
              "  </tbody>\n",
              "</table>\n",
              "</div>"
            ],
            "text/plain": [
              "       longitude  latitude  housing_median_age  total_rooms  total_bedrooms  \\\n",
              "8545      -118.5      34.0                32.0       6365.0          1784.0   \n",
              "15521     -122.3      39.1                10.0        266.0            62.0   \n",
              "11845     -121.3      38.6                22.0       3273.0           480.0   \n",
              "9826      -119.7      34.4                52.0        302.0           112.0   \n",
              "7281      -118.3      34.0                52.0       2194.0           504.0   \n",
              "\n",
              "       population  households  median_income  median_house_value  \n",
              "8545       2767.0      1698.0            3.6            383300.0  \n",
              "15521       154.0        49.0            2.2             75000.0  \n",
              "11845      1151.0       463.0            8.1            380000.0  \n",
              "9826        392.0       114.0            2.6            258300.0  \n",
              "7281        997.0       438.0            2.7            259400.0  "
            ]
          },
          "execution_count": 4,
          "metadata": {},
          "output_type": "execute_result"
        }
      ],
      "source": [
        "train_df = pd.read_csv(\"california_housing_train.csv\")\n",
        "test_df = pd.read_csv(\"california_housing_test.csv\")\n",
        "train_df = train_df.reindex(np.random.permutation(train_df.index)) # shuffle the training set\n",
        "train_df.head()"
      ]
    },
    {
      "cell_type": "markdown",
      "metadata": {
        "id": "q_vuAQq0Cvrp"
      },
      "source": [
        "Unlike some of the previous Colabs, the preceding code cell did not scale the label (`median_house_value`).  The following section (\"Normalize values\") provides an alternative approach.\n",
        "\n",
        "与之前的一些 Colabs 不同，前面的代码单元没有缩放标签（“median_house_value”）。 下一节（“规范化值”）提供了另一种方法。"
      ]
    },
    {
      "cell_type": "markdown",
      "metadata": {
        "id": "_G6y-XcEmk6r"
      },
      "source": [
        "## Normalize values\n",
        "\n",
        "When creating a model with multiple features, the values of each feature should cover roughly the same range.  For example, if one feature's range spans 500 to 100,000 and another feature's range spans 2 to 12, then the model will be difficult or impossible to train. Therefore, you should \n",
        "[normalize](https://developers.google.com/machine-learning/glossary/#normalization) features in a multi-feature model. \n",
        "\n",
        "The following code cell normalizes datasets by converting each raw value (including the label) to its Z-score. A **Z-score** is the number of standard deviations from the mean for a particular raw value. For example, consider a feature having the following characteristics:\n",
        "\n",
        "  * The mean is 60.\n",
        "  * The standard deviation is 10.\n",
        "\n",
        "The raw value 75 would have a Z-score of +1.5:\n",
        "\n",
        "```\n",
        "  Z-score = (75 - 60) / 10 = +1.5\n",
        "```\n",
        "\n",
        "The raw value 38 would have a Z-score of -2.2:\n",
        "\n",
        "```\n",
        "  Z-score = (38 - 60) / 10 = -2.2\n",
        "```\n",
        "\n",
        "## 规范化值\n",
        "\n",
        "创建具有多个特征的模型时，每个特征的值应覆盖大致相同的范围。 例如，如果一个要素的范围跨越 500 到 100，000，而另一个要素的范围跨越 2 到 12，则模型将难以或不可能训练。因此，您应该\n",
        "[规范化]（https://developers.google.com/machine-learning/glossary/#normalization） 多特征模型中的特征。\n",
        "\n",
        "以下代码单元通过将每个原始值（包括标签）转换为其 Z 得分来规范化数据集。**Z 得分** 是特定原始值与平均值的标准偏差数。例如，考虑具有以下特征的功能：\n",
        "\n",
        "* 平均值为 60。\n",
        "  * 标准偏差为 10。\n",
        "\n",
        "原始值 75 的 Z 得分为 +1.5：\n",
        "\n",
        "```\n",
        "  Z 得分 = （75 - 60） / 10 = +1.5\n",
        "```\n",
        "\n",
        "原始值 38 的 Z 得分为 -2.2：\n",
        "\n",
        "```\n",
        "  Z 得分 = （38 - 60） / 10 = -2.2\n",
        "```"
      ]
    },
    {
      "cell_type": "code",
      "execution_count": 5,
      "metadata": {
        "id": "n7nuAHoZIgVI"
      },
      "outputs": [
        {
          "data": {
            "text/html": [
              "<div>\n",
              "<style scoped>\n",
              "    .dataframe tbody tr th:only-of-type {\n",
              "        vertical-align: middle;\n",
              "    }\n",
              "\n",
              "    .dataframe tbody tr th {\n",
              "        vertical-align: top;\n",
              "    }\n",
              "\n",
              "    .dataframe thead th {\n",
              "        text-align: right;\n",
              "    }\n",
              "</style>\n",
              "<table border=\"1\" class=\"dataframe\">\n",
              "  <thead>\n",
              "    <tr style=\"text-align: right;\">\n",
              "      <th></th>\n",
              "      <th>longitude</th>\n",
              "      <th>latitude</th>\n",
              "      <th>housing_median_age</th>\n",
              "      <th>total_rooms</th>\n",
              "      <th>total_bedrooms</th>\n",
              "      <th>population</th>\n",
              "      <th>households</th>\n",
              "      <th>median_income</th>\n",
              "      <th>median_house_value</th>\n",
              "    </tr>\n",
              "  </thead>\n",
              "  <tbody>\n",
              "    <tr>\n",
              "      <th>8545</th>\n",
              "      <td>0.5</td>\n",
              "      <td>-0.7</td>\n",
              "      <td>0.3</td>\n",
              "      <td>1.7</td>\n",
              "      <td>3.0</td>\n",
              "      <td>1.2</td>\n",
              "      <td>3.1</td>\n",
              "      <td>-0.1</td>\n",
              "      <td>1.5</td>\n",
              "    </tr>\n",
              "    <tr>\n",
              "      <th>15521</th>\n",
              "      <td>-1.4</td>\n",
              "      <td>1.6</td>\n",
              "      <td>-1.5</td>\n",
              "      <td>-1.1</td>\n",
              "      <td>-1.1</td>\n",
              "      <td>-1.1</td>\n",
              "      <td>-1.2</td>\n",
              "      <td>-0.9</td>\n",
              "      <td>-1.1</td>\n",
              "    </tr>\n",
              "    <tr>\n",
              "      <th>11845</th>\n",
              "      <td>-0.9</td>\n",
              "      <td>1.4</td>\n",
              "      <td>-0.5</td>\n",
              "      <td>0.3</td>\n",
              "      <td>-0.1</td>\n",
              "      <td>-0.2</td>\n",
              "      <td>-0.1</td>\n",
              "      <td>2.2</td>\n",
              "      <td>1.5</td>\n",
              "    </tr>\n",
              "    <tr>\n",
              "      <th>9826</th>\n",
              "      <td>-0.1</td>\n",
              "      <td>-0.6</td>\n",
              "      <td>1.9</td>\n",
              "      <td>-1.1</td>\n",
              "      <td>-1.0</td>\n",
              "      <td>-0.9</td>\n",
              "      <td>-1.0</td>\n",
              "      <td>-0.7</td>\n",
              "      <td>0.4</td>\n",
              "    </tr>\n",
              "    <tr>\n",
              "      <th>7281</th>\n",
              "      <td>0.6</td>\n",
              "      <td>-0.7</td>\n",
              "      <td>1.9</td>\n",
              "      <td>-0.2</td>\n",
              "      <td>-0.1</td>\n",
              "      <td>-0.4</td>\n",
              "      <td>-0.2</td>\n",
              "      <td>-0.6</td>\n",
              "      <td>0.4</td>\n",
              "    </tr>\n",
              "  </tbody>\n",
              "</table>\n",
              "</div>"
            ],
            "text/plain": [
              "       longitude  latitude  housing_median_age  total_rooms  total_bedrooms  \\\n",
              "8545         0.5      -0.7                 0.3          1.7             3.0   \n",
              "15521       -1.4       1.6                -1.5         -1.1            -1.1   \n",
              "11845       -0.9       1.4                -0.5          0.3            -0.1   \n",
              "9826        -0.1      -0.6                 1.9         -1.1            -1.0   \n",
              "7281         0.6      -0.7                 1.9         -0.2            -0.1   \n",
              "\n",
              "       population  households  median_income  median_house_value  \n",
              "8545          1.2         3.1           -0.1                 1.5  \n",
              "15521        -1.1        -1.2           -0.9                -1.1  \n",
              "11845        -0.2        -0.1            2.2                 1.5  \n",
              "9826         -0.9        -1.0           -0.7                 0.4  \n",
              "7281         -0.4        -0.2           -0.6                 0.4  "
            ]
          },
          "execution_count": 5,
          "metadata": {},
          "output_type": "execute_result"
        }
      ],
      "source": [
        "# Calculate the Z-scores of each column in the training set and\n",
        "# write those Z-scores into a new pandas DataFrame named train_df_norm.\n",
        "train_df_mean = train_df.mean()\n",
        "train_df_std = train_df.std()\n",
        "train_df_norm = (train_df - train_df_mean)/train_df_std\n",
        "\n",
        "# Examine some of the values of the normalized training set. Notice that most \n",
        "# Z-scores fall between -2 and +2.\n",
        "train_df_norm.head()"
      ]
    },
    {
      "cell_type": "code",
      "execution_count": 6,
      "metadata": {
        "id": "QoW-59jVFF2I"
      },
      "outputs": [],
      "source": [
        "# Calculate the Z-scores of each column in the test set and\n",
        "# write those Z-scores into a new pandas DataFrame named test_df_norm.\n",
        "test_df_mean = test_df.mean()\n",
        "test_df_std  = test_df.std()\n",
        "test_df_norm = (test_df - test_df_mean)/test_df_std"
      ]
    },
    {
      "cell_type": "markdown",
      "metadata": {
        "id": "-swmXtWnZGis"
      },
      "source": [
        "## Task 1: Create a binary label\n",
        "\n",
        "In classification problems, the label for every example must be either 0 or 1. Unfortunately, the natural label in the California Housing Dataset, `median_house_value`, contains floating-point values like 80,100 or 85,700 rather than 0s and 1s, while the normalized version of `median_house_values` contains floating-point values primarily between -3 and +3.\n",
        "\n",
        "Your task is to create a new column named `median_house_value_is_high` in both the training set and the test set . If the `median_house_value` is higher than a certain arbitrary value (defined by `threshold`), then set `median_house_value_is_high` to 1. Otherwise, set `median_house_value_is_high` to 0. \n",
        "\n",
        "**Hint:** The cells in the `median_house_value_is_high` column must each hold `1` and `0`, not `True` and `False`. To convert `True` and `False` to  `1` and `0`, call the pandas DataFrame function `astype(float)`. \n",
        "\n",
        "## 任务 1：创建二分类标签\n",
        "\n",
        "在分类问题中，每个示例的标签必须为 0 或 1。遗憾的是，加州住房数据集中的自然标签“median_house_value”包含浮点值，如 80，100 或 85，700，而不是 0 和 1，而规范化版本的“median_house_values”包含主要介于 -3 和 +3 之间的浮点值。\n",
        "\n",
        "您的任务是在训练集和测试集中创建一个名为“median_house_value_is_high”的新列。如果“median_house_value”高于某个任意值（由“阈值”定义），则将“median_house_value_is_high”设置为 1。否则，请将“median_house_value_is_high”设置为 0。\n",
        "\n",
        "**提示：** “median_house_value_is_high”列中的单元格必须各自包含“1”和“0”，而不是“真”和“假”。要将“真”和“假”转换为“1”和“0”，请将熊猫数据帧函数称为“astype（浮点）”。"
      ]
    },
    {
      "cell_type": "code",
      "execution_count": 7,
      "metadata": {
        "id": "d4kWfWA8bhKW"
      },
      "outputs": [
        {
          "ename": "SyntaxError",
          "evalue": "invalid syntax (1111972909.py, line 2)",
          "output_type": "error",
          "traceback": [
            "\u001b[1;36m  Cell \u001b[1;32mIn[7], line 2\u001b[1;36m\u001b[0m\n\u001b[1;33m    train_df_norm[\"median_house_value_is_high\"] = ? Your code here\u001b[0m\n\u001b[1;37m                                                  ^\u001b[0m\n\u001b[1;31mSyntaxError\u001b[0m\u001b[1;31m:\u001b[0m invalid syntax\n"
          ]
        }
      ],
      "source": [
        "threshold = 265000 # This is the 75th percentile for median house values.\n",
        "train_df_norm[\"median_house_value_is_high\"] = ? Your code here\n",
        "test_df_norm[\"median_house_value_is_high\"] = ? Your code here\n",
        "\n",
        "# Print out a few example cells from the beginning and \n",
        "# middle of the training set, just to make sure that\n",
        "# your code created only 0s and 1s in the newly created\n",
        "# median_house_value_is_high column\n",
        "train_df_norm[\"median_house_value_is_high\"].head(8000)"
      ]
    },
    {
      "cell_type": "code",
      "execution_count": 8,
      "metadata": {
        "cellView": "form",
        "id": "b8b2fNmHO-iU"
      },
      "outputs": [
        {
          "data": {
            "text/plain": [
              "8545    1.0\n",
              "15521   0.0\n",
              "11845   1.0\n",
              "9826    0.0\n",
              "7281    0.0\n",
              "         ..\n",
              "4560    0.0\n",
              "336     0.0\n",
              "14424   1.0\n",
              "1166    0.0\n",
              "7665    1.0\n",
              "Name: median_house_value_is_high, Length: 8000, dtype: float64"
            ]
          },
          "execution_count": 8,
          "metadata": {},
          "output_type": "execute_result"
        }
      ],
      "source": [
        "#@title Double-click for possible solutions.\n",
        "\n",
        "# We arbitrarily set the threshold to 265,000, which is \n",
        "# the 75th percentile for median house values.  Every neighborhood\n",
        "# with a median house price above 265,000 will be labeled 1, \n",
        "# and all other neighborhoods will be labeled 0.\n",
        "threshold = 265000\n",
        "train_df_norm[\"median_house_value_is_high\"] = (train_df[\"median_house_value\"] > threshold).astype(float)\n",
        "test_df_norm[\"median_house_value_is_high\"] = (test_df[\"median_house_value\"] > threshold).astype(float) \n",
        "train_df_norm[\"median_house_value_is_high\"].head(8000)\n",
        "\n",
        "\n",
        "# Alternatively, instead of picking the threshold\n",
        "# based on raw house values, you can work with Z-scores.\n",
        "# For example, the following possible solution uses a Z-score\n",
        "# of +1.0 as the threshold, meaning that no more\n",
        "# than 16% of the values in median_house_value_is_high\n",
        "# will be labeled 1.\n",
        "\n",
        "# threshold_in_Z = 1.0 \n",
        "# train_df_norm[\"median_house_value_is_high\"] = (train_df_norm[\"median_house_value\"] > threshold_in_Z).astype(float)\n",
        "# test_df_norm[\"median_house_value_is_high\"] = (test_df_norm[\"median_house_value\"] > threshold_in_Z).astype(float) \n"
      ]
    },
    {
      "cell_type": "markdown",
      "metadata": {
        "id": "8kir8UTUXSV8"
      },
      "source": [
        "## Represent features in feature columns\n",
        "\n",
        "This code cell specifies the features that you'll ultimately train the model on and how each of those features will be represented. The transformations (collected in `feature_layer`) don't actually get applied until you pass a DataFrame to it, which will happen when we train the model. \n",
        "\n",
        "## 在功能列中表示功能\n",
        "\n",
        "此代码单元指定最终将基于哪些特征来训练模型，以及如何表示其中每个特征。转换（在“feature_layer”中收集）实际上不会应用，直到您将DataFrame传递给它，这将在我们训练模型时发生。"
      ]
    },
    {
      "cell_type": "code",
      "execution_count": 9,
      "metadata": {
        "id": "3tmmZIDw4JEC"
      },
      "outputs": [
        {
          "data": {
            "text/plain": [
              "<tf.Tensor: shape=(17000, 2), dtype=float32, numpy=\n",
              "array([[-0.12497827,  1.7070761 ],\n",
              "       [-0.85610276, -1.0906982 ],\n",
              "       [ 2.1834803 ,  0.28869307],\n",
              "       ...,\n",
              "       [ 2.158063  , -0.7264692 ],\n",
              "       [-0.8181604 , -0.01590149],\n",
              "       [-0.96746683, -0.8205082 ]], dtype=float32)>"
            ]
          },
          "execution_count": 9,
          "metadata": {},
          "output_type": "execute_result"
        }
      ],
      "source": [
        "# Create an empty list that will eventually hold all created feature columns.\n",
        "feature_columns = []\n",
        "\n",
        "# Create a numerical feature column to represent median_income.\n",
        "median_income = tf.feature_column.numeric_column(\"median_income\")\n",
        "feature_columns.append(median_income)\n",
        "\n",
        "# Create a numerical feature column to represent total_rooms.\n",
        "tr = tf.feature_column.numeric_column(\"total_rooms\")\n",
        "feature_columns.append(tr)\n",
        "\n",
        "# Convert the list of feature columns into a layer that will later be fed into\n",
        "# the model. \n",
        "feature_layer = layers.DenseFeatures(feature_columns)\n",
        "\n",
        "# Print the first 3 and last 3 rows of the feature_layer's output when applied\n",
        "# to train_df_norm:\n",
        "feature_layer(dict(train_df_norm))"
      ]
    },
    {
      "cell_type": "markdown",
      "metadata": {
        "id": "3014ezH3C7jT"
      },
      "source": [
        "## Define functions that build and train a model\n",
        "\n",
        "The following code cell defines two functions:\n",
        "\n",
        "  * `create_model(my_learning_rate, feature_layer, my_metrics)`, which defines the model's\n",
        "    topography.\n",
        "  * `train_model(model, dataset, epochs, label_name, batch_size, shuffle)`, uses input features and labels to train the model.\n",
        "\n",
        "Prior exercises used [ReLU](https://developers.google.com/machine-learning/glossary#ReLU) as the [activation function](https://developers.google.com/machine-learning/glossary#activation_function). By contrast, this exercise uses [sigmoid](https://developers.google.com/machine-learning/glossary#sigmoid_function) as the activation function. \n",
        "\n",
        "## 定义用于构建和训练模型的函数\n",
        "\n",
        "下面的代码单元定义了两个函数：\n",
        "\n",
        "* “create_model（my_learning_rate、feature_layer、my_metrics）”，它定义了模型的\n",
        "    地形。\n",
        "  * “train_model（模型、数据集、纪元、label_name、batch_size、随机播放）”，使用输入特征和标签来训练模型。\n",
        "\n",
        "之前的练习使用[ReLU]（https://developers.google.com/machine 学习/词汇表#ReLU）作为[激活函数]（https://developers.google.com/machine 学习/词汇表#activation_function）。相比之下，本练习使用 [sigmoid]（https://developers.google.com/machine 学习/词汇表 #sigmoid_function） 作为激活函数。"
      ]
    },
    {
      "cell_type": "code",
      "execution_count": 27,
      "metadata": {
        "cellView": "form",
        "id": "pedD5GhlDC-y"
      },
      "outputs": [
        {
          "name": "stdout",
          "output_type": "stream",
          "text": [
            "Defined the create_model and train_model functions.\n"
          ]
        }
      ],
      "source": [
        "#@title Define the functions that create and train a model.\n",
        "def create_model(my_learning_rate, feature_layer, my_metrics):\n",
        "  \"\"\"Create and compile a simple classification model.\"\"\"\n",
        "  # Most simple tf.keras models are sequential.\n",
        "  model = tf.keras.models.Sequential()\n",
        "\n",
        "  # Add the feature layer (the list of features and how they are represented)\n",
        "  # to the model.\n",
        "  model.add(feature_layer)\n",
        "\n",
        "  # Funnel the regression value through a sigmoid function.\n",
        "  model.add(tf.keras.layers.Dense(units=1, input_shape=(1,),\n",
        "                                  activation=tf.sigmoid),)\n",
        "\n",
        "  # Call the compile method to construct the layers into a model that\n",
        "  # TensorFlow can execute.  Notice that we're using a different loss\n",
        "  # function for classification than for regression.    \n",
        "  model.compile(optimizer=tf.keras.optimizers.RMSprop(lr=my_learning_rate),                                                   \n",
        "                loss=tf.keras.losses.BinaryCrossentropy(),\n",
        "                metrics=my_metrics)\n",
        "\n",
        "  return model        \n",
        "\n",
        "\n",
        "def train_model(model, dataset, epochs, label_name,\n",
        "                batch_size=None, shuffle=True):\n",
        "  \"\"\"Feed a dataset into the model in order to train it.\"\"\"\n",
        "\n",
        "  # The x parameter of tf.keras.Model.fit can be a list of arrays, where\n",
        "  # each array contains the data for one feature.  Here, we're passing\n",
        "  # every column in the dataset. Note that the feature_layer will filter\n",
        "  # away most of those columns, leaving only the desired columns and their\n",
        "  # representations as features. cxzdasqewewq774874\n",
        "  features = {name:np.array(value) for name, value in dataset.items()}\n",
        "  print(features)\n",
        "  label = np.array(features.pop(label_name)) \n",
        "  history = model.fit(x=features, y=label, batch_size=batch_size,\n",
        "                      epochs=epochs, shuffle=shuffle)\n",
        "  \n",
        "  # The list of epochs is stored separately from the rest of history.\n",
        "  epochs = history.epoch\n",
        "\n",
        "  # Isolate the classification metric for each epoch.\n",
        "  hist = pd.DataFrame(history.history)\n",
        "  print(hist)\n",
        "\n",
        "  return epochs, hist  \n",
        "\n",
        "print(\"Defined the create_model and train_model functions.\")   "
      ]
    },
    {
      "cell_type": "markdown",
      "metadata": {
        "id": "Ak_TMAzGOIFq"
      },
      "source": [
        "## Define a plotting function\n",
        "\n",
        "The following [matplotlib](https://developers.google.com/machine-learning/glossary/#matplotlib) function plots one or more curves, showing how various classification metrics change with each epoch."
      ]
    },
    {
      "cell_type": "code",
      "execution_count": 28,
      "metadata": {
        "cellView": "form",
        "id": "QF0BFRXTOeR3"
      },
      "outputs": [
        {
          "name": "stdout",
          "output_type": "stream",
          "text": [
            "Defined the plot_curve function.\n"
          ]
        }
      ],
      "source": [
        "#@title Define the plotting function.\n",
        "def plot_curve(epochs, hist, list_of_metrics):\n",
        "  \"\"\"Plot a curve of one or more classification metrics vs. epoch.\"\"\"  \n",
        "  # list_of_metrics should be one of the names shown in:\n",
        "  # https://www.tensorflow.org/tutorials/structured_data/imbalanced_data#define_the_model_and_metrics  \n",
        "\n",
        "  plt.figure()\n",
        "  plt.xlabel(\"Epoch\")\n",
        "  plt.ylabel(\"Value\")\n",
        "\n",
        "  for m in list_of_metrics:\n",
        "    x = hist[m]\n",
        "    plt.plot(epochs[1:], x[1:], label=m)\n",
        "\n",
        "  plt.legend()\n",
        "\n",
        "print(\"Defined the plot_curve function.\")"
      ]
    },
    {
      "cell_type": "markdown",
      "metadata": {
        "id": "D-IXYVfvM4gD"
      },
      "source": [
        "## Invoke the creating, training, and plotting functions\n",
        "\n",
        "The following code cell calls specify the hyperparameters, and then invokes the \n",
        "functions to create and train the model, and then to plot the results.\n",
        "\n",
        "## 调用创建、训练和绘图函数\n",
        "\n",
        "下面的代码单元格调用指定超参数，然后调用\n",
        "函数来创建和训练模型，然后绘制结果。"
      ]
    },
    {
      "cell_type": "code",
      "execution_count": 29,
      "metadata": {
        "cellView": "both",
        "id": "nj3v5EKQFY8s"
      },
      "outputs": [
        {
          "name": "stdout",
          "output_type": "stream",
          "text": [
            "{'longitude': array([ 0.52968583, -1.38038008, -0.88665547, ...,  0.579557  ,\n",
            "        0.7241834 , -0.84177141]), 'latitude': array([-0.7463599 ,  1.62574772,  1.38713334, ..., -0.81654059,\n",
            "       -0.73232376,  1.09705312]), 'housing_median_age': array([ 0.2709672 , -1.47687662, -0.52350726, ...,  0.50930954,\n",
            "       -0.84129705,  0.98599422]), 'total_rooms': array([ 1.70707612, -1.09069823,  0.28869306, ..., -0.7264692 ,\n",
            "       -0.01590149, -0.82050818]), 'total_bedrooms': array([ 2.95276583, -1.13264874, -0.14095113, ..., -0.82659852,\n",
            "        0.43081711, -0.83134349]), 'population': array([ 1.16515452, -1.11126946, -0.24269131, ..., -0.85862386,\n",
            "        0.68948383, -0.62165971]), 'households': array([ 3.11238802, -1.17606614, -0.09940148, ..., -0.79377217,\n",
            "        0.52475194, -0.76776577]), 'median_income': array([-0.12497827, -0.85610278,  2.18348016, ...,  2.15806296,\n",
            "       -0.8181604 , -0.96746681]), 'median_house_value': array([ 1.5174459 , -1.14068476,  1.48899364, ...,  2.52362983,\n",
            "       -0.12933631, -1.14068476]), 'median_house_value_is_high': array([1., 0., 1., ..., 1., 0., 0.])}\n",
            "Epoch 1/20\n",
            "WARNING:tensorflow:Layers in a Sequential model should only have a single input tensor. Received: inputs={'longitude': <tf.Tensor 'IteratorGetNext:3' shape=(100,) dtype=float32>, 'latitude': <tf.Tensor 'IteratorGetNext:2' shape=(100,) dtype=float32>, 'housing_median_age': <tf.Tensor 'IteratorGetNext:1' shape=(100,) dtype=float32>, 'total_rooms': <tf.Tensor 'IteratorGetNext:8' shape=(100,) dtype=float32>, 'total_bedrooms': <tf.Tensor 'IteratorGetNext:7' shape=(100,) dtype=float32>, 'population': <tf.Tensor 'IteratorGetNext:6' shape=(100,) dtype=float32>, 'households': <tf.Tensor 'IteratorGetNext:0' shape=(100,) dtype=float32>, 'median_income': <tf.Tensor 'IteratorGetNext:5' shape=(100,) dtype=float32>, 'median_house_value': <tf.Tensor 'IteratorGetNext:4' shape=(100,) dtype=float32>}. Consider rewriting this model with the Functional API.\n",
            "WARNING:tensorflow:Layers in a Sequential model should only have a single input tensor. Received: inputs={'longitude': <tf.Tensor 'IteratorGetNext:3' shape=(100,) dtype=float32>, 'latitude': <tf.Tensor 'IteratorGetNext:2' shape=(100,) dtype=float32>, 'housing_median_age': <tf.Tensor 'IteratorGetNext:1' shape=(100,) dtype=float32>, 'total_rooms': <tf.Tensor 'IteratorGetNext:8' shape=(100,) dtype=float32>, 'total_bedrooms': <tf.Tensor 'IteratorGetNext:7' shape=(100,) dtype=float32>, 'population': <tf.Tensor 'IteratorGetNext:6' shape=(100,) dtype=float32>, 'households': <tf.Tensor 'IteratorGetNext:0' shape=(100,) dtype=float32>, 'median_income': <tf.Tensor 'IteratorGetNext:5' shape=(100,) dtype=float32>, 'median_house_value': <tf.Tensor 'IteratorGetNext:4' shape=(100,) dtype=float32>}. Consider rewriting this model with the Functional API.\n"
          ]
        },
        {
          "name": "stderr",
          "output_type": "stream",
          "text": [
            "c:\\Users\\dell\\AppData\\Local\\Programs\\Python\\Python310\\lib\\site-packages\\keras\\optimizers\\optimizer_v2\\rmsprop.py:140: UserWarning: The `lr` argument is deprecated, use `learning_rate` instead.\n",
            "  super().__init__(name, **kwargs)\n"
          ]
        },
        {
          "name": "stdout",
          "output_type": "stream",
          "text": [
            "170/170 [==============================] - 0s 855us/step - loss: 1.3037 - accuracy: 0.2270\n",
            "Epoch 2/20\n",
            "170/170 [==============================] - 0s 838us/step - loss: 1.1556 - accuracy: 0.2359\n",
            "Epoch 3/20\n",
            "170/170 [==============================] - 0s 797us/step - loss: 1.0202 - accuracy: 0.2490\n",
            "Epoch 4/20\n",
            "170/170 [==============================] - 0s 775us/step - loss: 0.9021 - accuracy: 0.2730\n",
            "Epoch 5/20\n",
            "170/170 [==============================] - 0s 747us/step - loss: 0.8005 - accuracy: 0.3218\n",
            "Epoch 6/20\n",
            "170/170 [==============================] - 0s 776us/step - loss: 0.7166 - accuracy: 0.4348\n",
            "Epoch 7/20\n",
            "170/170 [==============================] - 0s 770us/step - loss: 0.6501 - accuracy: 0.6653\n",
            "Epoch 8/20\n",
            "170/170 [==============================] - 0s 767us/step - loss: 0.5964 - accuracy: 0.7460\n",
            "Epoch 9/20\n",
            "170/170 [==============================] - 0s 770us/step - loss: 0.5542 - accuracy: 0.7445\n",
            "Epoch 10/20\n",
            "170/170 [==============================] - 0s 785us/step - loss: 0.5187 - accuracy: 0.7707\n",
            "Epoch 11/20\n",
            "170/170 [==============================] - 0s 775us/step - loss: 0.4892 - accuracy: 0.8055\n",
            "Epoch 12/20\n",
            "170/170 [==============================] - 0s 752us/step - loss: 0.4654 - accuracy: 0.8219\n",
            "Epoch 13/20\n",
            "170/170 [==============================] - 0s 757us/step - loss: 0.4459 - accuracy: 0.8244\n",
            "Epoch 14/20\n",
            "170/170 [==============================] - 0s 760us/step - loss: 0.4308 - accuracy: 0.8233\n",
            "Epoch 15/20\n",
            "170/170 [==============================] - 0s 792us/step - loss: 0.4191 - accuracy: 0.8177\n",
            "Epoch 16/20\n",
            "170/170 [==============================] - 0s 766us/step - loss: 0.4108 - accuracy: 0.8152\n",
            "Epoch 17/20\n",
            "170/170 [==============================] - 0s 755us/step - loss: 0.4049 - accuracy: 0.8129\n",
            "Epoch 18/20\n",
            "170/170 [==============================] - 0s 791us/step - loss: 0.4011 - accuracy: 0.8124\n",
            "Epoch 19/20\n",
            "170/170 [==============================] - 0s 815us/step - loss: 0.3990 - accuracy: 0.8097\n",
            "Epoch 20/20\n",
            "170/170 [==============================] - 0s 835us/step - loss: 0.3978 - accuracy: 0.8091\n",
            "    loss  accuracy\n",
            "0    1.3       0.2\n",
            "1    1.2       0.2\n",
            "2    1.0       0.2\n",
            "3    0.9       0.3\n",
            "4    0.8       0.3\n",
            "..   ...       ...\n",
            "15   0.4       0.8\n",
            "16   0.4       0.8\n",
            "17   0.4       0.8\n",
            "18   0.4       0.8\n",
            "19   0.4       0.8\n",
            "\n",
            "[20 rows x 2 columns]\n"
          ]
        },
        {
          "data": {
            "image/png": "[encoded data removed]",
            "text/plain": [
              "<Figure size 640x480 with 1 Axes>"
            ]
          },
          "metadata": {},
          "output_type": "display_data"
        }
      ],
      "source": [
        "# The following variables are the hyperparameters.\n",
        "learning_rate = 0.001\n",
        "epochs = 20\n",
        "batch_size = 100\n",
        "label_name = \"median_house_value_is_high\"\n",
        "classification_threshold = 0.35\n",
        "\n",
        "# Establish the metrics the model will measure.\n",
        "METRICS = [\n",
        "           tf.keras.metrics.BinaryAccuracy(name='accuracy', \n",
        "                                           threshold=classification_threshold),\n",
        "          ]\n",
        "\n",
        "# Establish the model's topography.\n",
        "my_model = create_model(learning_rate, feature_layer, METRICS)\n",
        "\n",
        "# Train the model on the training set.\n",
        "epochs, hist = train_model(my_model, train_df_norm, epochs, \n",
        "                           label_name, batch_size)\n",
        "\n",
        "# Plot a graph of the metric(s) vs. epochs.\n",
        "list_of_metrics_to_plot = ['accuracy'] \n",
        "\n",
        "plot_curve(epochs, hist, list_of_metrics_to_plot)"
      ]
    },
    {
      "cell_type": "markdown",
      "metadata": {
        "id": "FF64TpqkbOpn"
      },
      "source": [
        "Accuracy should gradually improve during training (until it can \n",
        "improve no more).\n",
        "\n",
        "在训练期间，准确性应逐渐提高（直到它能够\n",
        "不再改善）。"
      ]
    },
    {
      "cell_type": "markdown",
      "metadata": {
        "id": "1xNqWWos_zyk"
      },
      "source": [
        "## Evaluate the model against the test set\n",
        "\n",
        "At the end of model training, you ended up with a certain accuracy against the *training set*. Invoke the following code cell to determine your model's accuracy against the *test set*.\n",
        "\n",
        "## 根据测试集评估模型\n",
        "\n",
        "在模型训练结束时，您最终对*训练集*具有一定的准确性。调用以下代码单元以确定模型相对于 *test 集* 的准确性。"
      ]
    },
    {
      "cell_type": "code",
      "execution_count": 13,
      "metadata": {
        "id": "eJorkMlDmtHf"
      },
      "outputs": [
        {
          "name": "stdout",
          "output_type": "stream",
          "text": [
            "WARNING:tensorflow:Layers in a Sequential model should only have a single input tensor. Received: inputs={'longitude': <tf.Tensor 'IteratorGetNext:3' shape=(100,) dtype=float32>, 'latitude': <tf.Tensor 'IteratorGetNext:2' shape=(100,) dtype=float32>, 'housing_median_age': <tf.Tensor 'IteratorGetNext:1' shape=(100,) dtype=float32>, 'total_rooms': <tf.Tensor 'IteratorGetNext:8' shape=(100,) dtype=float32>, 'total_bedrooms': <tf.Tensor 'IteratorGetNext:7' shape=(100,) dtype=float32>, 'population': <tf.Tensor 'IteratorGetNext:6' shape=(100,) dtype=float32>, 'households': <tf.Tensor 'IteratorGetNext:0' shape=(100,) dtype=float32>, 'median_income': <tf.Tensor 'IteratorGetNext:5' shape=(100,) dtype=float32>, 'median_house_value': <tf.Tensor 'IteratorGetNext:4' shape=(100,) dtype=float32>}. Consider rewriting this model with the Functional API.\n",
            "30/30 [==============================] - 0s 907us/step - loss: 0.4069 - accuracy: 0.8013\n"
          ]
        },
        {
          "data": {
            "text/plain": [
              "[0.4068529009819031, 0.8013333082199097]"
            ]
          },
          "execution_count": 13,
          "metadata": {},
          "output_type": "execute_result"
        }
      ],
      "source": [
        "features = {name:np.array(value) for name, value in test_df_norm.items()}\n",
        "label = np.array(features.pop(label_name))\n",
        "\n",
        "my_model.evaluate(x = features, y = label, batch_size=batch_size)"
      ]
    },
    {
      "cell_type": "markdown",
      "metadata": {
        "id": "q7cHkFXalXV5"
      },
      "source": [
        "## Task 2: How accurate is your model really?\n",
        "\n",
        "Is your model valuable?\n",
        "\n",
        "## 任务 2：你的模型到底有多准确？\n",
        "\n",
        "您的模型有价值吗？"
      ]
    },
    {
      "cell_type": "code",
      "execution_count": 14,
      "metadata": {
        "cellView": "form",
        "id": "rUvCrQkulwjV"
      },
      "outputs": [],
      "source": [
        "#@title Double-click for a possible answer to Task 2.\n",
        "\n",
        "# A perfect model would make 100% accurate predictions.\n",
        "# Our model makes 80% accurate predictions. 80% sounds\n",
        "# good, but note that a model that always guesses \n",
        "# \"median_house_value_is_high is False\" would be 75% \n",
        "# accurate. \n",
        "\n",
        "#@title 双击可获得任务 2 的可能答案。\n",
        "\n",
        "# 一个完美的模型可以做出100%准确的预测。\n",
        "# 我们的模型做出 80% 的准确预测。80% 声音\n",
        "# 不错，但请注意，模型总是会猜测\n",
        "# “median_house_value_is_high是假的”将是75%\n",
        "# 准确。"
      ]
    },
    {
      "cell_type": "markdown",
      "metadata": {
        "id": "C8crSCCVf6gm"
      },
      "source": [
        "## Task 3: Add precision and recall as metrics\n",
        "\n",
        "Relying solely on accuracy, particularly for a class-imbalanced data set (like ours), can be a poor way to judge a classification model.  Modify the code in the following code cell to enable the model to measure not only accuracy but also precision and recall. We have\n",
        "added accuracy and precision; your task is to add recall. See the [TensorFlow Reference](https://www.tensorflow.org/api_docs/python/tf/keras/metrics/Recall) for details.\n",
        "\n",
        "## 任务 3：将精度和召回率添加为指标\n",
        "\n",
        "仅仅依靠准确性，特别是对于类不平衡的数据集（像我们这样的数据集），可能是判断分类模型的糟糕方法。 修改以下代码单元中的代码，使模型不仅可以测量准确性，还可以测量精度和召回率。我们有\n",
        "增加准确性和精密度;您的任务是添加召回。有关详细信息，请参阅 [张量流参考]（https://www.tensorflow.org/api_docs/python/tf/keras/metrics/Recall）。\n",
        "\n"
      ]
    },
    {
      "cell_type": "code",
      "execution_count": 30,
      "metadata": {
        "id": "r-k1MD2XArmO"
      },
      "outputs": [
        {
          "name": "stdout",
          "output_type": "stream",
          "text": [
            "{'longitude': array([ 0.52968583, -1.38038008, -0.88665547, ...,  0.579557  ,\n",
            "        0.7241834 , -0.84177141]), 'latitude': array([-0.7463599 ,  1.62574772,  1.38713334, ..., -0.81654059,\n",
            "       -0.73232376,  1.09705312]), 'housing_median_age': array([ 0.2709672 , -1.47687662, -0.52350726, ...,  0.50930954,\n",
            "       -0.84129705,  0.98599422]), 'total_rooms': array([ 1.70707612, -1.09069823,  0.28869306, ..., -0.7264692 ,\n",
            "       -0.01590149, -0.82050818]), 'total_bedrooms': array([ 2.95276583, -1.13264874, -0.14095113, ..., -0.82659852,\n",
            "        0.43081711, -0.83134349]), 'population': array([ 1.16515452, -1.11126946, -0.24269131, ..., -0.85862386,\n",
            "        0.68948383, -0.62165971]), 'households': array([ 3.11238802, -1.17606614, -0.09940148, ..., -0.79377217,\n",
            "        0.52475194, -0.76776577]), 'median_income': array([-0.12497827, -0.85610278,  2.18348016, ...,  2.15806296,\n",
            "       -0.8181604 , -0.96746681]), 'median_house_value': array([ 1.5174459 , -1.14068476,  1.48899364, ...,  2.52362983,\n",
            "       -0.12933631, -1.14068476]), 'median_house_value_is_high': array([1., 0., 1., ..., 1., 0., 0.])}\n",
            "Epoch 1/20\n"
          ]
        },
        {
          "name": "stdout",
          "output_type": "stream",
          "text": [
            "WARNING:tensorflow:Layers in a Sequential model should only have a single input tensor. Received: inputs={'longitude': <tf.Tensor 'IteratorGetNext:3' shape=(100,) dtype=float32>, 'latitude': <tf.Tensor 'IteratorGetNext:2' shape=(100,) dtype=float32>, 'housing_median_age': <tf.Tensor 'IteratorGetNext:1' shape=(100,) dtype=float32>, 'total_rooms': <tf.Tensor 'IteratorGetNext:8' shape=(100,) dtype=float32>, 'total_bedrooms': <tf.Tensor 'IteratorGetNext:7' shape=(100,) dtype=float32>, 'population': <tf.Tensor 'IteratorGetNext:6' shape=(100,) dtype=float32>, 'households': <tf.Tensor 'IteratorGetNext:0' shape=(100,) dtype=float32>, 'median_income': <tf.Tensor 'IteratorGetNext:5' shape=(100,) dtype=float32>, 'median_house_value': <tf.Tensor 'IteratorGetNext:4' shape=(100,) dtype=float32>}. Consider rewriting this model with the Functional API.\n",
            "WARNING:tensorflow:Layers in a Sequential model should only have a single input tensor. Received: inputs={'longitude': <tf.Tensor 'IteratorGetNext:3' shape=(100,) dtype=float32>, 'latitude': <tf.Tensor 'IteratorGetNext:2' shape=(100,) dtype=float32>, 'housing_median_age': <tf.Tensor 'IteratorGetNext:1' shape=(100,) dtype=float32>, 'total_rooms': <tf.Tensor 'IteratorGetNext:8' shape=(100,) dtype=float32>, 'total_bedrooms': <tf.Tensor 'IteratorGetNext:7' shape=(100,) dtype=float32>, 'population': <tf.Tensor 'IteratorGetNext:6' shape=(100,) dtype=float32>, 'households': <tf.Tensor 'IteratorGetNext:0' shape=(100,) dtype=float32>, 'median_income': <tf.Tensor 'IteratorGetNext:5' shape=(100,) dtype=float32>, 'median_house_value': <tf.Tensor 'IteratorGetNext:4' shape=(100,) dtype=float32>}. Consider rewriting this model with the Functional API.\n"
          ]
        },
        {
          "name": "stderr",
          "output_type": "stream",
          "text": [
            "c:\\Users\\dell\\AppData\\Local\\Programs\\Python\\Python310\\lib\\site-packages\\keras\\optimizers\\optimizer_v2\\rmsprop.py:140: UserWarning: The `lr` argument is deprecated, use `learning_rate` instead.\n",
            "  super().__init__(name, **kwargs)\n"
          ]
        },
        {
          "name": "stdout",
          "output_type": "stream",
          "text": [
            "170/170 [==============================] - 0s 934us/step - loss: 0.6387 - accuracy: 0.6188 - precision: 0.3829 - recall: 0.8592\n",
            "Epoch 2/20\n",
            "170/170 [==============================] - 0s 829us/step - loss: 0.5843 - accuracy: 0.6539 - precision: 0.4063 - recall: 0.8356\n",
            "Epoch 3/20\n",
            "170/170 [==============================] - 0s 812us/step - loss: 0.5378 - accuracy: 0.6838 - precision: 0.4295 - recall: 0.8097\n",
            "Epoch 4/20\n",
            "170/170 [==============================] - 0s 795us/step - loss: 0.4984 - accuracy: 0.7106 - precision: 0.4539 - recall: 0.7782\n",
            "Epoch 5/20\n",
            "170/170 [==============================] - 0s 903us/step - loss: 0.4665 - accuracy: 0.7364 - precision: 0.4822 - recall: 0.7445\n",
            "Epoch 6/20\n",
            "170/170 [==============================] - 0s 1ms/step - loss: 0.4408 - accuracy: 0.7585 - precision: 0.5120 - recall: 0.7111\n",
            "Epoch 7/20\n",
            "170/170 [==============================] - 0s 905us/step - loss: 0.4221 - accuracy: 0.7756 - precision: 0.5406 - recall: 0.6781\n",
            "Epoch 8/20\n",
            "170/170 [==============================] - 0s 823us/step - loss: 0.4095 - accuracy: 0.7894 - precision: 0.5685 - recall: 0.6518\n",
            "Epoch 9/20\n",
            "170/170 [==============================] - 0s 846us/step - loss: 0.4026 - accuracy: 0.7982 - precision: 0.5893 - recall: 0.6350\n",
            "Epoch 10/20\n",
            "170/170 [==============================] - 0s 844us/step - loss: 0.3992 - accuracy: 0.8052 - precision: 0.6069 - recall: 0.6256\n",
            "Epoch 11/20\n",
            "170/170 [==============================] - 0s 828us/step - loss: 0.3977 - accuracy: 0.8077 - precision: 0.6147 - recall: 0.6171\n",
            "Epoch 12/20\n",
            "170/170 [==============================] - 0s 807us/step - loss: 0.3971 - accuracy: 0.8080 - precision: 0.6156 - recall: 0.6162\n",
            "Epoch 13/20\n",
            "170/170 [==============================] - 0s 812us/step - loss: 0.3969 - accuracy: 0.8091 - precision: 0.6187 - recall: 0.6148\n",
            "Epoch 14/20\n",
            "170/170 [==============================] - 0s 859us/step - loss: 0.3967 - accuracy: 0.8086 - precision: 0.6178 - recall: 0.6138\n",
            "Epoch 15/20\n",
            "170/170 [==============================] - 0s 817us/step - loss: 0.3967 - accuracy: 0.8084 - precision: 0.6169 - recall: 0.6150\n",
            "Epoch 16/20\n",
            "170/170 [==============================] - 0s 853us/step - loss: 0.3966 - accuracy: 0.8091 - precision: 0.6188 - recall: 0.6138\n",
            "Epoch 17/20\n",
            "170/170 [==============================] - 0s 808us/step - loss: 0.3966 - accuracy: 0.8095 - precision: 0.6198 - recall: 0.6138\n",
            "Epoch 18/20\n",
            "170/170 [==============================] - 0s 811us/step - loss: 0.3966 - accuracy: 0.8084 - precision: 0.6170 - recall: 0.6148\n",
            "Epoch 19/20\n",
            "170/170 [==============================] - 0s 811us/step - loss: 0.3966 - accuracy: 0.8093 - precision: 0.6192 - recall: 0.6148\n",
            "Epoch 20/20\n",
            "170/170 [==============================] - 0s 787us/step - loss: 0.3966 - accuracy: 0.8091 - precision: 0.6187 - recall: 0.6148\n",
            "    loss  accuracy  precision  recall\n",
            "0    0.6       0.6        0.4     0.9\n",
            "1    0.6       0.7        0.4     0.8\n",
            "2    0.5       0.7        0.4     0.8\n",
            "3    0.5       0.7        0.5     0.8\n",
            "4    0.5       0.7        0.5     0.7\n",
            "..   ...       ...        ...     ...\n",
            "15   0.4       0.8        0.6     0.6\n",
            "16   0.4       0.8        0.6     0.6\n",
            "17   0.4       0.8        0.6     0.6\n",
            "18   0.4       0.8        0.6     0.6\n",
            "19   0.4       0.8        0.6     0.6\n",
            "\n",
            "[20 rows x 4 columns]\n"
          ]
        },
        {
          "data": {
            "image/png": "[encoded data removed]",
            "text/plain": [
              "<Figure size 640x480 with 1 Axes>"
            ]
          },
          "metadata": {},
          "output_type": "display_data"
        }
      ],
      "source": [
        "# The following variables are the hyperparameters.\n",
        "learning_rate = 0.001\n",
        "epochs = 20\n",
        "batch_size = 100\n",
        "classification_threshold = 0.35\n",
        "label_name = \"median_house_value_is_high\"\n",
        "\n",
        "# Modify the following definition of METRICS to generate\n",
        "# not only accuracy and precision, but also recall:\n",
        "METRICS = [\n",
        "      tf.keras.metrics.BinaryAccuracy(name='accuracy', \n",
        "                                      threshold=classification_threshold),\n",
        "      tf.keras.metrics.Precision(thresholds=classification_threshold,\n",
        "                                 name='precision' \n",
        "                                 ),\n",
        "      tf.keras.metrics.Recall(thresholds=classification_threshold,\n",
        "                              name='recall')\n",
        "]\n",
        "\n",
        "# Establish the model's topography.\n",
        "my_model = create_model(learning_rate, feature_layer, METRICS)\n",
        "\n",
        "# Train the model on the training set.\n",
        "epochs, hist = train_model(my_model, train_df_norm, epochs, \n",
        "                           label_name, batch_size)\n",
        "\n",
        "# Plot metrics vs. epochs\n",
        "list_of_metrics_to_plot = ['accuracy', 'precision', 'recall'] \n",
        "plot_curve(epochs, hist, list_of_metrics_to_plot)"
      ]
    },
    {
      "cell_type": "code",
      "execution_count": 16,
      "metadata": {
        "cellView": "form",
        "id": "Ax87gOyDBhAu"
      },
      "outputs": [
        {
          "name": "stdout",
          "output_type": "stream",
          "text": [
            "Epoch 1/20\n",
            "WARNING:tensorflow:Layers in a Sequential model should only have a single input tensor. Received: inputs={'longitude': <tf.Tensor 'IteratorGetNext:3' shape=(100,) dtype=float32>, 'latitude': <tf.Tensor 'IteratorGetNext:2' shape=(100,) dtype=float32>, 'housing_median_age': <tf.Tensor 'IteratorGetNext:1' shape=(100,) dtype=float32>, 'total_rooms': <tf.Tensor 'IteratorGetNext:8' shape=(100,) dtype=float32>, 'total_bedrooms': <tf.Tensor 'IteratorGetNext:7' shape=(100,) dtype=float32>, 'population': <tf.Tensor 'IteratorGetNext:6' shape=(100,) dtype=float32>, 'households': <tf.Tensor 'IteratorGetNext:0' shape=(100,) dtype=float32>, 'median_income': <tf.Tensor 'IteratorGetNext:5' shape=(100,) dtype=float32>, 'median_house_value': <tf.Tensor 'IteratorGetNext:4' shape=(100,) dtype=float32>}. Consider rewriting this model with the Functional API.\n",
            "WARNING:tensorflow:Layers in a Sequential model should only have a single input tensor. Received: inputs={'longitude': <tf.Tensor 'IteratorGetNext:3' shape=(100,) dtype=float32>, 'latitude': <tf.Tensor 'IteratorGetNext:2' shape=(100,) dtype=float32>, 'housing_median_age': <tf.Tensor 'IteratorGetNext:1' shape=(100,) dtype=float32>, 'total_rooms': <tf.Tensor 'IteratorGetNext:8' shape=(100,) dtype=float32>, 'total_bedrooms': <tf.Tensor 'IteratorGetNext:7' shape=(100,) dtype=float32>, 'population': <tf.Tensor 'IteratorGetNext:6' shape=(100,) dtype=float32>, 'households': <tf.Tensor 'IteratorGetNext:0' shape=(100,) dtype=float32>, 'median_income': <tf.Tensor 'IteratorGetNext:5' shape=(100,) dtype=float32>, 'median_house_value': <tf.Tensor 'IteratorGetNext:4' shape=(100,) dtype=float32>}. Consider rewriting this model with the Functional API.\n",
            "170/170 [==============================] - 0s 869us/step - loss: 0.6221 - accuracy: 0.5818 - precision: 0.3622 - recall: 0.8860\n",
            "Epoch 2/20\n",
            "170/170 [==============================] - 0s 832us/step - loss: 0.5642 - accuracy: 0.6318 - precision: 0.3917 - recall: 0.8571\n",
            "Epoch 3/20\n",
            "170/170 [==============================] - 0s 795us/step - loss: 0.5159 - accuracy: 0.6752 - precision: 0.4232 - recall: 0.8262\n",
            "Epoch 4/20\n",
            "170/170 [==============================] - 0s 794us/step - loss: 0.4783 - accuracy: 0.7114 - precision: 0.4551 - recall: 0.7862\n",
            "Epoch 5/20\n",
            "170/170 [==============================] - 0s 787us/step - loss: 0.4483 - accuracy: 0.7400 - precision: 0.4867 - recall: 0.7433\n",
            "Epoch 6/20\n",
            "170/170 [==============================] - 0s 789us/step - loss: 0.4268 - accuracy: 0.7618 - precision: 0.5170 - recall: 0.7061\n",
            "Epoch 7/20\n",
            "170/170 [==============================] - 0s 795us/step - loss: 0.4123 - accuracy: 0.7805 - precision: 0.5492 - recall: 0.6781\n",
            "Epoch 8/20\n",
            "170/170 [==============================] - 0s 783us/step - loss: 0.4037 - accuracy: 0.7941 - precision: 0.5777 - recall: 0.6529\n",
            "Epoch 9/20\n",
            "170/170 [==============================] - 0s 800us/step - loss: 0.3998 - accuracy: 0.8018 - precision: 0.5973 - recall: 0.6339\n",
            "Epoch 10/20\n",
            "170/170 [==============================] - 0s 790us/step - loss: 0.3981 - accuracy: 0.8065 - precision: 0.6104 - recall: 0.6237\n",
            "Epoch 11/20\n",
            "170/170 [==============================] - 0s 794us/step - loss: 0.3974 - accuracy: 0.8067 - precision: 0.6120 - recall: 0.6181\n",
            "Epoch 12/20\n",
            "170/170 [==============================] - 0s 908us/step - loss: 0.3970 - accuracy: 0.8077 - precision: 0.6146 - recall: 0.6174\n",
            "Epoch 13/20\n",
            "170/170 [==============================] - 0s 917us/step - loss: 0.3968 - accuracy: 0.8084 - precision: 0.6167 - recall: 0.6157\n",
            "Epoch 14/20\n",
            "170/170 [==============================] - 0s 802us/step - loss: 0.3967 - accuracy: 0.8090 - precision: 0.6184 - recall: 0.6150\n",
            "Epoch 15/20\n",
            "170/170 [==============================] - 0s 777us/step - loss: 0.3967 - accuracy: 0.8091 - precision: 0.6188 - recall: 0.6138\n",
            "Epoch 16/20\n",
            "170/170 [==============================] - 0s 802us/step - loss: 0.3966 - accuracy: 0.8089 - precision: 0.6182 - recall: 0.6143\n",
            "Epoch 17/20\n",
            "170/170 [==============================] - 0s 799us/step - loss: 0.3966 - accuracy: 0.8094 - precision: 0.6194 - recall: 0.6143\n",
            "Epoch 18/20\n",
            "170/170 [==============================] - 0s 804us/step - loss: 0.3966 - accuracy: 0.8093 - precision: 0.6195 - recall: 0.6134\n",
            "Epoch 19/20\n",
            "170/170 [==============================] - 0s 902us/step - loss: 0.3966 - accuracy: 0.8089 - precision: 0.6181 - recall: 0.6148\n",
            "Epoch 20/20\n",
            "170/170 [==============================] - 0s 864us/step - loss: 0.3966 - accuracy: 0.8096 - precision: 0.6200 - recall: 0.6146\n"
          ]
        },
        {
          "data": {
            "image/png": "[encoded data removed]",
            "text/plain": [
              "<Figure size 640x480 with 1 Axes>"
            ]
          },
          "metadata": {},
          "output_type": "display_data"
        }
      ],
      "source": [
        "#@title Double-click to view the solution for Task 3.\n",
        "\n",
        "# The following variables are the hyperparameters.\n",
        "learning_rate = 0.001\n",
        "epochs = 20\n",
        "batch_size = 100\n",
        "classification_threshold = 0.35\n",
        "label_name = \"median_house_value_is_high\"\n",
        "\n",
        "# Here is the updated definition of METRICS:\n",
        "METRICS = [\n",
        "      tf.keras.metrics.BinaryAccuracy(name='accuracy', \n",
        "                                      threshold=classification_threshold),\n",
        "      tf.keras.metrics.Precision(thresholds=classification_threshold,\n",
        "                                 name='precision' \n",
        "                                 ),\n",
        "      tf.keras.metrics.Recall(thresholds=classification_threshold,\n",
        "                              name=\"recall\"),\n",
        "]\n",
        "\n",
        "# Establish the model's topography.\n",
        "my_model = create_model(learning_rate, feature_layer, METRICS)\n",
        "\n",
        "# Train the model on the training set.\n",
        "epochs, hist = train_model(my_model, train_df_norm, epochs, \n",
        "                           label_name, batch_size)\n",
        "\n",
        "# Plot metrics vs. epochs\n",
        "list_of_metrics_to_plot = ['accuracy', \"precision\", \"recall\"] \n",
        "plot_curve(epochs, hist, list_of_metrics_to_plot)\n",
        "\n",
        "\n",
        "# The new graphs suggest that precision and recall are \n",
        "# somewhat in conflict. That is, improvements to one of\n",
        "# those metrics may hurt the other metric."
      ]
    },
    {
      "cell_type": "markdown",
      "metadata": {
        "id": "cAsB85iKSXLe"
      },
      "source": [
        "## Task 4: Experiment with the classification threshold (if time permits)\n",
        "\n",
        "Experiment with different values for `classification_threshold` in the code cell within \"Invoke the creating, training, and plotting functions.\"  What value of `classification_threshold` produces the highest accuracy?\n",
        "\n",
        "## 任务 4：试验分类阈值（如果时间允许）\n",
        "\n",
        "在“调用创建、训练和绘图函数”中的代码单元中试验“classification_threshold”的不同值。 “classification_threshold”的什么值会产生最高的精度？"
      ]
    },
    {
      "cell_type": "code",
      "execution_count": 17,
      "metadata": {
        "cellView": "form",
        "id": "FLPDYI7Sphnj"
      },
      "outputs": [
        {
          "name": "stdout",
          "output_type": "stream",
          "text": [
            "Epoch 1/20\n",
            "WARNING:tensorflow:Layers in a Sequential model should only have a single input tensor. Received: inputs={'longitude': <tf.Tensor 'IteratorGetNext:3' shape=(100,) dtype=float32>, 'latitude': <tf.Tensor 'IteratorGetNext:2' shape=(100,) dtype=float32>, 'housing_median_age': <tf.Tensor 'IteratorGetNext:1' shape=(100,) dtype=float32>, 'total_rooms': <tf.Tensor 'IteratorGetNext:8' shape=(100,) dtype=float32>, 'total_bedrooms': <tf.Tensor 'IteratorGetNext:7' shape=(100,) dtype=float32>, 'population': <tf.Tensor 'IteratorGetNext:6' shape=(100,) dtype=float32>, 'households': <tf.Tensor 'IteratorGetNext:0' shape=(100,) dtype=float32>, 'median_income': <tf.Tensor 'IteratorGetNext:5' shape=(100,) dtype=float32>, 'median_house_value': <tf.Tensor 'IteratorGetNext:4' shape=(100,) dtype=float32>}. Consider rewriting this model with the Functional API.\n",
            "WARNING:tensorflow:Layers in a Sequential model should only have a single input tensor. Received: inputs={'longitude': <tf.Tensor 'IteratorGetNext:3' shape=(100,) dtype=float32>, 'latitude': <tf.Tensor 'IteratorGetNext:2' shape=(100,) dtype=float32>, 'housing_median_age': <tf.Tensor 'IteratorGetNext:1' shape=(100,) dtype=float32>, 'total_rooms': <tf.Tensor 'IteratorGetNext:8' shape=(100,) dtype=float32>, 'total_bedrooms': <tf.Tensor 'IteratorGetNext:7' shape=(100,) dtype=float32>, 'population': <tf.Tensor 'IteratorGetNext:6' shape=(100,) dtype=float32>, 'households': <tf.Tensor 'IteratorGetNext:0' shape=(100,) dtype=float32>, 'median_income': <tf.Tensor 'IteratorGetNext:5' shape=(100,) dtype=float32>, 'median_house_value': <tf.Tensor 'IteratorGetNext:4' shape=(100,) dtype=float32>}. Consider rewriting this model with the Functional API.\n",
            "170/170 [==============================] - 0s 849us/step - loss: 1.0519 - accuracy: 0.3321 - precision: 0.0910 - recall: 0.1862\n",
            "Epoch 2/20\n",
            "170/170 [==============================] - 0s 814us/step - loss: 0.9454 - accuracy: 0.4042 - precision: 0.0797 - recall: 0.1314\n",
            "Epoch 3/20\n",
            "170/170 [==============================] - 0s 795us/step - loss: 0.8519 - accuracy: 0.5279 - precision: 0.0765 - recall: 0.0803\n",
            "Epoch 4/20\n",
            "170/170 [==============================] - 0s 798us/step - loss: 0.7704 - accuracy: 0.6669 - precision: 0.1014 - recall: 0.0424\n",
            "Epoch 5/20\n",
            "170/170 [==============================] - 0s 817us/step - loss: 0.7006 - accuracy: 0.7231 - precision: 0.1470 - recall: 0.0226\n",
            "Epoch 6/20\n",
            "170/170 [==============================] - 0s 838us/step - loss: 0.6420 - accuracy: 0.7377 - precision: 0.2006 - recall: 0.0167\n",
            "Epoch 7/20\n",
            "170/170 [==============================] - 0s 847us/step - loss: 0.5932 - accuracy: 0.7446 - precision: 0.2783 - recall: 0.0139\n",
            "Epoch 8/20\n",
            "170/170 [==============================] - 0s 796us/step - loss: 0.5518 - accuracy: 0.7473 - precision: 0.3497 - recall: 0.0134\n",
            "Epoch 9/20\n",
            "170/170 [==============================] - 0s 815us/step - loss: 0.5170 - accuracy: 0.7512 - precision: 0.5464 - recall: 0.0235\n",
            "Epoch 10/20\n",
            "170/170 [==============================] - 0s 806us/step - loss: 0.4876 - accuracy: 0.7647 - precision: 0.8241 - recall: 0.0739\n",
            "Epoch 11/20\n",
            "170/170 [==============================] - 0s 824us/step - loss: 0.4636 - accuracy: 0.7805 - precision: 0.9006 - recall: 0.1366\n",
            "Epoch 12/20\n",
            "170/170 [==============================] - 0s 816us/step - loss: 0.4446 - accuracy: 0.7988 - precision: 0.9232 - recall: 0.2124\n",
            "Epoch 13/20\n",
            "170/170 [==============================] - 0s 811us/step - loss: 0.4297 - accuracy: 0.8136 - precision: 0.9185 - recall: 0.2788\n",
            "Epoch 14/20\n",
            "170/170 [==============================] - 0s 842us/step - loss: 0.4185 - accuracy: 0.8252 - precision: 0.8992 - recall: 0.3384\n",
            "Epoch 15/20\n",
            "170/170 [==============================] - 0s 803us/step - loss: 0.4101 - accuracy: 0.8319 - precision: 0.8744 - recall: 0.3819\n",
            "Epoch 16/20\n",
            "170/170 [==============================] - 0s 814us/step - loss: 0.4044 - accuracy: 0.8327 - precision: 0.8345 - recall: 0.4121\n",
            "Epoch 17/20\n",
            "170/170 [==============================] - 0s 803us/step - loss: 0.4008 - accuracy: 0.8349 - precision: 0.8209 - recall: 0.4340\n",
            "Epoch 18/20\n",
            "170/170 [==============================] - 0s 779us/step - loss: 0.3988 - accuracy: 0.8359 - precision: 0.8099 - recall: 0.4483\n",
            "Epoch 19/20\n",
            "170/170 [==============================] - 0s 827us/step - loss: 0.3978 - accuracy: 0.8355 - precision: 0.8002 - recall: 0.4554\n",
            "Epoch 20/20\n",
            "170/170 [==============================] - 0s 828us/step - loss: 0.3972 - accuracy: 0.8370 - precision: 0.7952 - recall: 0.4681\n"
          ]
        },
        {
          "data": {
            "image/png": "[encoded data removed]",
            "text/plain": [
              "<Figure size 640x480 with 1 Axes>"
            ]
          },
          "metadata": {},
          "output_type": "display_data"
        }
      ],
      "source": [
        "#@title Double-click to view the solution for Task 4.\n",
        "\n",
        "# The following variables are the hyperparameters.\n",
        "learning_rate = 0.001\n",
        "epochs = 20\n",
        "batch_size = 100\n",
        "classification_threshold = 0.52\n",
        "label_name = \"median_house_value_is_high\"\n",
        "\n",
        "# Here is the updated definition of METRICS:\n",
        "METRICS = [\n",
        "      tf.keras.metrics.BinaryAccuracy(name='accuracy', \n",
        "                                      threshold=classification_threshold),\n",
        "      tf.keras.metrics.Precision(thresholds=classification_threshold,\n",
        "                                 name='precision' \n",
        "                                 ),\n",
        "      tf.keras.metrics.Recall(thresholds=classification_threshold,\n",
        "                              name=\"recall\"),\n",
        "]\n",
        "\n",
        "# Establish the model's topography.\n",
        "my_model = create_model(learning_rate, feature_layer, METRICS)\n",
        "\n",
        "# Train the model on the training set.\n",
        "epochs, hist = train_model(my_model, train_df_norm, epochs, \n",
        "                           label_name, batch_size)\n",
        "\n",
        "# Plot metrics vs. epochs\n",
        "list_of_metrics_to_plot = ['accuracy', \"precision\", \"recall\"] \n",
        "plot_curve(epochs, hist, list_of_metrics_to_plot)\n",
        "\n",
        "# A `classification_threshold` of slightly over 0.5\n",
        "# appears to produce the highest accuracy (about 83%).\n",
        "# Raising the `classification_threshold` to 0.9 drops \n",
        "# accuracy by about 5%.  Lowering the \n",
        "# `classification_threshold` to 0.3 drops accuracy by \n",
        "# about 3%. "
      ]
    },
    {
      "cell_type": "markdown",
      "metadata": {
        "id": "XBGRS0Ndduus"
      },
      "source": [
        "## Task 5: Summarize model performance (if time permits)\n",
        "\n",
        "If time permits, add one more metric that attempts to summarize the model's overall performance. \n",
        "\n",
        "## 任务 5：汇总模型性能（如果时间允许）\n",
        "\n",
        "如果时间允许，请再添加一个指标，尝试汇总模型的整体性能。"
      ]
    },
    {
      "cell_type": "code",
      "execution_count": 18,
      "metadata": {
        "cellView": "form",
        "id": "vwNE6syoFvWe"
      },
      "outputs": [
        {
          "name": "stdout",
          "output_type": "stream",
          "text": [
            "Epoch 1/20\n",
            "WARNING:tensorflow:Layers in a Sequential model should only have a single input tensor. Received: inputs={'longitude': <tf.Tensor 'IteratorGetNext:3' shape=(100,) dtype=float32>, 'latitude': <tf.Tensor 'IteratorGetNext:2' shape=(100,) dtype=float32>, 'housing_median_age': <tf.Tensor 'IteratorGetNext:1' shape=(100,) dtype=float32>, 'total_rooms': <tf.Tensor 'IteratorGetNext:8' shape=(100,) dtype=float32>, 'total_bedrooms': <tf.Tensor 'IteratorGetNext:7' shape=(100,) dtype=float32>, 'population': <tf.Tensor 'IteratorGetNext:6' shape=(100,) dtype=float32>, 'households': <tf.Tensor 'IteratorGetNext:0' shape=(100,) dtype=float32>, 'median_income': <tf.Tensor 'IteratorGetNext:5' shape=(100,) dtype=float32>, 'median_house_value': <tf.Tensor 'IteratorGetNext:4' shape=(100,) dtype=float32>}. Consider rewriting this model with the Functional API.\n",
            "WARNING:tensorflow:Layers in a Sequential model should only have a single input tensor. Received: inputs={'longitude': <tf.Tensor 'IteratorGetNext:3' shape=(100,) dtype=float32>, 'latitude': <tf.Tensor 'IteratorGetNext:2' shape=(100,) dtype=float32>, 'housing_median_age': <tf.Tensor 'IteratorGetNext:1' shape=(100,) dtype=float32>, 'total_rooms': <tf.Tensor 'IteratorGetNext:8' shape=(100,) dtype=float32>, 'total_bedrooms': <tf.Tensor 'IteratorGetNext:7' shape=(100,) dtype=float32>, 'population': <tf.Tensor 'IteratorGetNext:6' shape=(100,) dtype=float32>, 'households': <tf.Tensor 'IteratorGetNext:0' shape=(100,) dtype=float32>, 'median_income': <tf.Tensor 'IteratorGetNext:5' shape=(100,) dtype=float32>, 'median_house_value': <tf.Tensor 'IteratorGetNext:4' shape=(100,) dtype=float32>}. Consider rewriting this model with the Functional API.\n",
            "170/170 [==============================] - 0s 827us/step - loss: 0.7570 - auc: 0.5533\n",
            "Epoch 2/20\n",
            "170/170 [==============================] - 0s 893us/step - loss: 0.6758 - auc: 0.6352\n",
            "Epoch 3/20\n",
            "170/170 [==============================] - 0s 874us/step - loss: 0.6055 - auc: 0.7066\n",
            "Epoch 4/20\n",
            "170/170 [==============================] - 0s 909us/step - loss: 0.5477 - auc: 0.7568\n",
            "Epoch 5/20\n",
            "170/170 [==============================] - 0s 963us/step - loss: 0.5007 - auc: 0.7888\n",
            "Epoch 6/20\n",
            "170/170 [==============================] - 0s 851us/step - loss: 0.4649 - auc: 0.8087\n",
            "Epoch 7/20\n",
            "170/170 [==============================] - 0s 823us/step - loss: 0.4390 - auc: 0.8218\n",
            "Epoch 8/20\n",
            "170/170 [==============================] - 0s 820us/step - loss: 0.4214 - auc: 0.8296\n",
            "Epoch 9/20\n",
            "170/170 [==============================] - 0s 829us/step - loss: 0.4108 - auc: 0.8336\n",
            "Epoch 10/20\n",
            "170/170 [==============================] - 0s 881us/step - loss: 0.4044 - auc: 0.8353\n",
            "Epoch 11/20\n",
            "170/170 [==============================] - 0s 838us/step - loss: 0.4008 - auc: 0.8361\n",
            "Epoch 12/20\n",
            "170/170 [==============================] - 0s 823us/step - loss: 0.3988 - auc: 0.8365\n",
            "Epoch 13/20\n",
            "170/170 [==============================] - 0s 817us/step - loss: 0.3977 - auc: 0.8366\n",
            "Epoch 14/20\n",
            "170/170 [==============================] - 0s 878us/step - loss: 0.3971 - auc: 0.8369\n",
            "Epoch 15/20\n",
            "170/170 [==============================] - 0s 823us/step - loss: 0.3969 - auc: 0.8369\n",
            "Epoch 16/20\n",
            "170/170 [==============================] - 0s 824us/step - loss: 0.3967 - auc: 0.8368\n",
            "Epoch 17/20\n",
            "170/170 [==============================] - 0s 860us/step - loss: 0.3967 - auc: 0.8368\n",
            "Epoch 18/20\n",
            "170/170 [==============================] - 0s 823us/step - loss: 0.3966 - auc: 0.8367\n",
            "Epoch 19/20\n",
            "170/170 [==============================] - 0s 833us/step - loss: 0.3966 - auc: 0.8369\n",
            "Epoch 20/20\n",
            "170/170 [==============================] - 0s 817us/step - loss: 0.3966 - auc: 0.8370\n"
          ]
        },
        {
          "data": {
            "image/png": "[encoded data removed]",
            "text/plain": [
              "<Figure size 640x480 with 1 Axes>"
            ]
          },
          "metadata": {},
          "output_type": "display_data"
        }
      ],
      "source": [
        "#@title Double-click to view the solution for Task 5.\n",
        "\n",
        "# The following variables are the hyperparameters.\n",
        "learning_rate = 0.001\n",
        "epochs = 20\n",
        "batch_size = 100\n",
        "label_name = \"median_house_value_is_high\"\n",
        "\n",
        "# AUC is a reasonable \"summary\" metric for \n",
        "# classification models.\n",
        "# Here is the updated definition of METRICS to \n",
        "# measure AUC:\n",
        "METRICS = [\n",
        "      tf.keras.metrics.AUC(num_thresholds=100, name='auc'),\n",
        "]\n",
        "\n",
        "# Establish the model's topography.\n",
        "my_model = create_model(learning_rate, feature_layer, METRICS)\n",
        "\n",
        "# Train the model on the training set.\n",
        "epochs, hist = train_model(my_model, train_df_norm, epochs, \n",
        "                           label_name, batch_size)\n",
        "\n",
        "# Plot metrics vs. epochs\n",
        "list_of_metrics_to_plot = ['auc'] \n",
        "plot_curve(epochs, hist, list_of_metrics_to_plot)"
      ]
    }
  ],
  "metadata": {
    "colab": {
      "collapsed_sections": [],
      "name": "Binary Classification.ipynb",
      "private_outputs": true,
      "provenance": []
    },
    "kernelspec": {
      "display_name": "Python 3.9.12 64-bit",
      "language": "python",
      "name": "python3"
    },
    "language_info": {
      "codemirror_mode": {
        "name": "ipython",
        "version": 3
      },
      "file_extension": ".py",
      "mimetype": "text/x-python",
      "name": "python",
      "nbconvert_exporter": "python",
      "pygments_lexer": "ipython3",
      "version": "3.10.6"
    },
    "vscode": {
      "interpreter": {
        "hash": "67f1dc6f6f712f7142079021955b91e049abb319dcfdc9eed010dd73dd4d845d"
      }
    }
  },
  "nbformat": 4,
  "nbformat_minor": 0
}
