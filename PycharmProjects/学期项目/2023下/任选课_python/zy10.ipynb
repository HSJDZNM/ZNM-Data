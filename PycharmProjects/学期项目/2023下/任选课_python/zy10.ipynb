{
 "cells": [
  {
   "cell_type": "code",
   "execution_count": 2,
   "metadata": {},
   "outputs": [],
   "source": [
    "import pickle\n",
    "\n",
    "like = [\"菠萝手机\", \"手机壳\", \"数据库\", \"死jk\", \"沈jk\", \"沈夹慨\"]\n",
    "\n",
    "# 使用 pickle.dumps() 将列表序列化为 bytes 对象\n",
    "s = pickle.dumps(like)\n",
    "\n",
    "# 使用二进制写入模式打开文件\n",
    "with open('favorites.dat', 'wb') as f:\n",
    "    f.write(s)\n"
   ]
  },
  {
   "cell_type": "code",
   "execution_count": 4,
   "metadata": {},
   "outputs": [
    {
     "name": "stdout",
     "output_type": "stream",
     "text": [
      "['菠萝手机', '手机壳', '数据库', '死jk', '沈jk', '沈夹慨']\n"
     ]
    }
   ],
   "source": [
    "with open('favorites.dat', 'rb') as f:\n",
    "    data = pickle.load(f)\n",
    "print(data)"
   ]
  }
 ],
 "metadata": {
  "kernelspec": {
   "display_name": "Python 3",
   "language": "python",
   "name": "python3"
  },
  "language_info": {
   "codemirror_mode": {
    "name": "ipython",
    "version": 3
   },
   "file_extension": ".py",
   "mimetype": "text/x-python",
   "name": "python",
   "nbconvert_exporter": "python",
   "pygments_lexer": "ipython3",
   "version": "3.10.6"
  }
 },
 "nbformat": 4,
 "nbformat_minor": 2
}
