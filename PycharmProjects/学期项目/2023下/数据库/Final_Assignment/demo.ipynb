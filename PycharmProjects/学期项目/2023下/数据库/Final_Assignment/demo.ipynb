{
 "cells": [
  {
   "cell_type": "code",
   "execution_count": 22,
   "metadata": {},
   "outputs": [
    {
     "name": "stdout",
     "output_type": "stream",
     "text": [
      "<class 'str'>\n",
      "[['三国从忽悠刘备开始', '浙东匹夫', '历史军事'], ['为了生意让妻子陪领导喝酒好吗', '文刀圭月', '女生频道'], ['人在凡尘，俯视洪荒', '春来无声', '武侠仙侠']]\n"
     ]
    }
   ],
   "source": [
    "from pymysql import Connection\n",
    "con = Connection(\n",
    "    host=\"10.1.92.46\",\n",
    "    port=3306, \n",
    "    user=\"root\",\n",
    "    passwd=\"hk123\" ,\n",
    "    database=\"library\",\n",
    "    charset=\"utf8mb4\",\n",
    "    )\n",
    "try:\n",
    "    cursor = con.cursor()\n",
    "    cursor.execute(\"SELECT * FROM books;\")\n",
    "    result = cursor.fetchall()\n",
    "    a_list = []\n",
    "    print(type(result[0][0]))\n",
    "    for one in result[:3]:\n",
    "        b_list = []\n",
    "        for one_tag in one:\n",
    "            if type(one_tag)==str:\n",
    "                b_list.append(one_tag)\n",
    "            else:b_list.append(one_tag.decode('utf-8'))\n",
    "        a_list.append(b_list)\n",
    "\n",
    "\n",
    "finally:\n",
    "    print(a_list)\n",
    "    con.close()"
   ]
  },
  {
   "cell_type": "code",
   "execution_count": 25,
   "metadata": {},
   "outputs": [
    {
     "name": "stdout",
     "output_type": "stream",
     "text": [
      "['book_name', 'author', 'tag']\n"
     ]
    }
   ],
   "source": [
    "from pymysql import Connection\n",
    "con = Connection(\n",
    "    host=\"10.1.92.46\",\n",
    "    port=3306, \n",
    "    user=\"root\",\n",
    "    passwd=\"hk123\" ,\n",
    "    database=\"library\",\n",
    "    charset=\"utf8mb4\",\n",
    "    )\n",
    "try:\n",
    "    cursor = con.cursor()\n",
    "    cursor.execute(\"SELECT * FROM books;\")\n",
    "    result = cursor.fetchall()\n",
    "    columns = [col[0] for col in cursor.description]\n",
    "    print(columns)\n",
    "\n",
    "\n",
    "finally:\n",
    "    con.close()"
   ]
  },
  {
   "cell_type": "code",
   "execution_count": 19,
   "metadata": {},
   "outputs": [
    {
     "name": "stdout",
     "output_type": "stream",
     "text": [
      "{'book_id': 0, 'book_name': '人在凡尘，俯视洪荒', 'author': '春来无声', 'tag': '武侠仙侠'}\n"
     ]
    }
   ],
   "source": [
    "from pymysql import Connection\n",
    "con = Connection(\n",
    "    host=\"10.1.92.46\",\n",
    "    port=3306, \n",
    "    user=\"root\",\n",
    "    passwd=\"hk123\" ,\n",
    "    database=\"library\",\n",
    "    charset=\"utf8mb4\",\n",
    "    )\n",
    "try:\n",
    "    cursor = con.cursor()\n",
    "    cursor.execute(\"SELECT * FROM books;\")\n",
    "    result = cursor.fetchall()\n",
    "\n",
    "    columns = [col[0] for col in cursor.description]\n",
    "    a_list = []\n",
    "    for one in result[:3]:\n",
    "        decoded_list = [element.decode('utf-8') if isinstance(element, bytes) else element for element in one]\n",
    "        a_list.append(dict(zip(columns,decoded_list)))\n",
    "        \n",
    "finally:\n",
    "    print(a_list[2])\n",
    "    con.close()"
   ]
  },
  {
   "cell_type": "code",
   "execution_count": 83,
   "metadata": {},
   "outputs": [
    {
     "name": "stdout",
     "output_type": "stream",
     "text": [
      "[{'book_id': 7, 'book_name': '人在半岛，开局与小姨队友同居', 'author': '我家有一条大鱼', 'tag': '都市言情'}, {'book_id': 9, 'book_name': '和歌坛天后一起退隐的日子', 'author': '鸡骑猫', 'tag': '都市言情'}, {'book_id': 21, 'book_name': '觉醒时代：从少年闰土开始', 'author': '陶歌破', 'tag': '都市言情'}]\n"
     ]
    }
   ],
   "source": [
    "con = Connection(\n",
    "    host=\"10.1.92.46\",\n",
    "    port=3306, \n",
    "    user=\"root\",\n",
    "    passwd=\"hk123\" ,\n",
    "    database=\"library\",\n",
    "    charset=\"utf8mb4\",\n",
    "    )\n",
    "try:\n",
    "    cursor = con.cursor()\n",
    "    cursor.execute(\"SELECT * FROM books WHERE tag = '都市言情';\")\n",
    "    result = cursor.fetchall()\n",
    "\n",
    "    # 查询到每个字段名\n",
    "    columns = [col[0] for col in cursor.description]\n",
    "    all_book_list = []\n",
    "    for one in result:\n",
    "        # 判断每一行的数据是不是已解码状态\n",
    "        decoded_list = [element.decode('utf-8') if isinstance(element, bytes) else element for element in one]\n",
    "        all_book_list.append(dict(zip(columns,decoded_list)))\n",
    "    print(all_book_list)\n",
    "finally:\n",
    "    con.close()"
   ]
  },
  {
   "cell_type": "code",
   "execution_count": 88,
   "metadata": {},
   "outputs": [
    {
     "name": "stdout",
     "output_type": "stream",
     "text": [
      "(('红色玛利亚',),)\n",
      "(('03.我大俄,天下无敌啦!',),)\n"
     ]
    }
   ],
   "source": [
    "con = Connection(\n",
    "    host=\"10.1.92.46\",\n",
    "    port=3306, \n",
    "    user=\"root\",\n",
    "    passwd=\"hk123\" ,\n",
    "    database=\"library\",\n",
    "    charset=\"utf8mb4\",\n",
    "    )\n",
    "try:\n",
    "    cursor = con.cursor()\n",
    "    # 获取书名\n",
    "    cursor.execute(f\"SELECT book_name FROM book_content WHERE chapter_id = '5';\")\n",
    "    title = cursor.fetchall()\n",
    "    # 获取章节名\n",
    "    cursor.execute(f\"SELECT title FROM book_content WHERE chapter_id = '5';\")\n",
    "    chapter_name = cursor.fetchall()\n",
    "    \n",
    "    print(title)\n",
    "    print(chapter_name)\n",
    "finally:\n",
    "    con.close()"
   ]
  },
  {
   "cell_type": "code",
   "execution_count": 41,
   "metadata": {},
   "outputs": [],
   "source": [
    "book_url = [\"https://www.biqg.cc/book/95514/\", \"https://www.biqg.cc/book/157093/\", \"https://www.biqg.cc/book/33700/\", \"https://www.biqg.cc/book/150882/\", \"https://www.biqg.cc/book/146830/\", \"https://www.biqg.cc/book/113648/\", \"https://www.biqg.cc/book/4136/\", \"https://www.biqg.cc/book/129979/\", \"https://www.biqg.cc/book/49643/\", \"https://www.biqg.cc/book/155757/\", \"https://www.biqg.cc/book/13880/\", \"https://www.biqg.cc/book/12192/\", \"https://www.biqg.cc/book/93168/\", \"https://www.biqg.cc/book/1094/\", \"https://www.biqg.cc/book/77367/\", \"https://www.biqg.cc/book/161320/\", \"https://www.biqg.cc/book/146056/\", \"https://www.biqg.cc/book/108623/\", \"https://www.biqg.cc/book/147221/\", \"https://www.biqg.cc/book/162207/\", \"https://www.biqg.cc/book/161215/\"]"
   ]
  },
  {
   "cell_type": "code",
   "execution_count": 82,
   "metadata": {},
   "outputs": [
    {
     "name": "stdout",
     "output_type": "stream",
     "text": [
      "https://www.biqg.cc/book/95514/\n",
      "4\n",
      "红色玛利亚\n",
      "符华\n",
      "历史军事\n",
      "================================\n",
      "https://www.biqg.cc/book/157093/\n",
      "5\n",
      "狂仙\n",
      "陈风笑\n",
      "武侠仙侠\n",
      "================================\n",
      "https://www.biqg.cc/book/33700/\n",
      "6\n",
      "神秘复苏（神秘复苏）\n",
      "佛前献花\n",
      "武侠仙侠\n",
      "================================\n",
      "https://www.biqg.cc/book/150882/\n",
      "7\n",
      "人在半岛，开局与小姨队友同居\n",
      "我家有一条大鱼\n",
      "都市言情\n",
      "================================\n",
      "https://www.biqg.cc/book/146830/\n",
      "8\n",
      "最终神职\n",
      "拓跋狗蛋\n",
      "科幻灵异\n",
      "================================\n",
      "https://www.biqg.cc/book/113648/\n",
      "9\n",
      "和歌坛天后一起退隐的日子\n",
      "鸡骑猫\n",
      "都市言情\n",
      "================================\n",
      "https://www.biqg.cc/book/4136/\n",
      "10\n",
      "末日轮盘\n",
      "幻动\n",
      "科幻灵异\n",
      "================================\n",
      "https://www.biqg.cc/book/129979/\n",
      "11\n",
      "混沌冠冕\n",
      "汉朝天子\n",
      "女生频道\n",
      "================================\n",
      "https://www.biqg.cc/book/49643/\n",
      "12\n",
      "东瀛怪诞创造时\n",
      "文刀手予\n",
      "玄幻奇幻\n",
      "================================\n",
      "https://www.biqg.cc/book/155757/\n",
      "13\n",
      "武之极:执掌轮回\n",
      "霸决\n",
      "玄幻奇幻\n",
      "================================\n",
      "https://www.biqg.cc/book/13880/\n",
      "14\n",
      "重生之狂暴火法陆阳夏雨薇\n",
      "燃烧的地狱咆哮\n",
      "网游竞技\n",
      "================================\n",
      "https://www.biqg.cc/book/12192/\n",
      "15\n",
      "神邸\n",
      "禹枫\n",
      "玄幻奇幻\n",
      "================================\n",
      "https://www.biqg.cc/book/93168/\n",
      "16\n",
      "绝世道君陆羽孟竹韵\n",
      "携壶远游\n",
      "玄幻奇幻\n",
      "================================\n",
      "https://www.biqg.cc/book/1094/\n",
      "17\n",
      "谍云重重\n",
      "尘中陌\n",
      "历史军事\n",
      "================================\n",
      "https://www.biqg.cc/book/77367/\n",
      "18\n",
      "裂天空骑\n",
      "华表\n",
      "科幻灵异\n",
      "================================\n",
      "https://www.biqg.cc/book/161320/\n",
      "19\n",
      "斗罗：在天水女装十年，我无敌了\n",
      "我真不是老酒\n",
      "女生频道\n",
      "================================\n",
      "https://www.biqg.cc/book/146056/\n",
      "20\n",
      "从密修学院僧开始\n",
      "夜半探窗\n",
      "女生频道\n",
      "================================\n",
      "https://www.biqg.cc/book/108623/\n",
      "21\n",
      "觉醒时代：从少年闰土开始\n",
      "陶歌破\n",
      "都市言情\n",
      "================================\n",
      "https://www.biqg.cc/book/147221/\n",
      "22\n",
      "布衣仙途\n",
      "左岸司马\n",
      "武侠仙侠\n",
      "================================\n",
      "https://www.biqg.cc/book/162207/\n",
      "23\n",
      "续命大明朝\n",
      "高十翼\n",
      "历史军事\n",
      "================================\n",
      "https://www.biqg.cc/book/161215/\n",
      "24\n",
      "诸天：从少林高僧开始无限变强\n",
      "天谴的笔\n",
      "网游竞技\n",
      "================================\n"
     ]
    }
   ],
   "source": [
    "from bs4 import BeautifulSoup\n",
    "import requests\n",
    "from urllib.parse import urljoin\n",
    "import re\n",
    "from pymysql import Connection\n",
    "\n",
    "con = Connection(\n",
    "    host=\"10.1.92.46\",\n",
    "    port=3306, \n",
    "    user=\"root\",\n",
    "    passwd=\"hk123\" ,\n",
    "    database=\"library\",\n",
    "    charset=\"utf8mb4\",\n",
    "    )\n",
    "cursor = con.cursor()\n",
    "i=4 # 控制book_id\n",
    "for book in book_url:\n",
    "    print(book)\n",
    "    r = requests.get(book)\n",
    "    html = r.text\n",
    "    soup = BeautifulSoup(html, \"html.parser\")\n",
    "\n",
    "    print(i)\n",
    "    \n",
    "    # 找到书名\n",
    "    h1_tag = soup.find('h1')\n",
    "    print(h1_tag.text)\n",
    "\n",
    "    # 找到第一个span标签\n",
    "    author_tag = soup.find('div', class_='small')\n",
    "    span_tag = author_tag.find('span')\n",
    "\n",
    "    # 使用split方法获取到作者名字\n",
    "    split_result = span_tag.text.split(\"：\")\n",
    "    print(split_result[1])\n",
    "\n",
    "    # 找到存放标签的div\n",
    "    tag_div = soup.find('div', class_='path wap_none')\n",
    "    segments = tag_div.text.split(\">\")      # 以这个符号“>”为分隔符,放在一个列表里\n",
    "    tag = re.sub(r'\\s', '', segments[1])        # 移除字符串中的空白字符\n",
    "    print(tag)\n",
    "\n",
    "    # 写入数据库\n",
    "    insert_sql = \"INSERT INTO books (book_id, book_name, author, tag) VALUES (%s, %s, %s, %s)\"\n",
    "    cursor.execute(insert_sql, (i, h1_tag.text, split_result[1], tag))\n",
    "\n",
    "    con.commit()\n",
    "    i+=1\n",
    "    print(\"================================\")\n",
    "con.close()"
   ]
  },
  {
   "cell_type": "code",
   "execution_count": 60,
   "metadata": {},
   "outputs": [
    {
     "name": "stdout",
     "output_type": "stream",
     "text": [
      "狂仙\n"
     ]
    }
   ],
   "source": [
    "h1_tag = soup.find('h1')\n",
    "print(h1_tag.text)"
   ]
  },
  {
   "cell_type": "code",
   "execution_count": 61,
   "metadata": {},
   "outputs": [
    {
     "name": "stdout",
     "output_type": "stream",
     "text": [
      "陈风笑\n"
     ]
    }
   ],
   "source": [
    "# 找到第一个span标签\n",
    "author_tag = soup.find('div', class_='small')\n",
    "span_tag = author_tag.find('span')\n",
    "\n",
    "# 使用split方法获取到作者名字\n",
    "split_result = span_tag.text.split(\"：\")\n",
    "author_name = split_result[1] if len(split_result) > 1 else None\n",
    "\n",
    "print(author_name)"
   ]
  },
  {
   "cell_type": "code",
   "execution_count": 73,
   "metadata": {},
   "outputs": [
    {
     "name": "stdout",
     "output_type": "stream",
     "text": [
      "武侠仙侠\n"
     ]
    }
   ],
   "source": [
    "tag_div = soup.find('div', class_='path wap_none')\n",
    "segments = tag_div.text.split(\">\")\n",
    "genre = segments[1].strip() if len(segments) > 1 else None\n",
    "print(genre)"
   ]
  },
  {
   "cell_type": "code",
   "execution_count": 68,
   "metadata": {},
   "outputs": [
    {
     "name": "stdout",
     "output_type": "stream",
     "text": [
      "['笔趣阁 ', ' 武侠仙侠 ', ' 狂仙全文免费阅读更新报错 | 直达底部']\n",
      "武侠仙侠\n"
     ]
    }
   ],
   "source": [
    "original_string = \"笔趣阁 > 武侠仙侠 > 狂仙全文免费阅读更新报错 | 直达底部\"\n",
    "segments = original_string.split(\">\")\n",
    "print(segments)\n",
    "genre = segments[1].strip() if len(segments) > 1 else None\n",
    "print(genre)\n"
   ]
  },
  {
   "cell_type": "code",
   "execution_count": 94,
   "metadata": {},
   "outputs": [
    {
     "name": "stdout",
     "output_type": "stream",
     "text": [
      "<div class=\"Readarea ReadAjax_content\" id=\"chaptercontent\">　　加班中，更新延后一下，不好意思哈<br/><br/>　　唉，年底材料太多了，天天加班。<br/><br/>　　预计明天早晨10点到中午12点之间更新。<br/><br/>　　另外，前面有读者总是担心手予会太监，一发通知就紧张的不得了。<br/><br/>　　哈哈，放心吧，我目前还真没培养出太监的习惯。<br/><br/>　　最早那本《魏不二》，网站连签约都不给，我都写了60多万字。<br/><br/>　　《大唐妖怪图鉴》那么低的订阅，后续订阅还完全不怎么涨，我都尽全力完本了。<br/><br/>　　何况，《东瀛怪诞创造时》这本书，虽然首订一般般，但是后续涨势真的非常好啊，几乎每天都能涨个40多首订，这要持续一年，我不得起飞喽……<br/><br/>　　说真的，这个增长的势头比当初《不二大道》都好多了，要知道，不二当初可是上过三江，上过app和网站首页强推的，而《东瀛》连分类强推都没有上过。<br/><br/>　　我感觉我说不准能创造个奇迹呢。<br/><br/>　　而且，这本书的后续还有很多爆点，很多有意思的设定，人物，故事，怪诞，会一点点，有条不紊地，随着剧情渗透进来，连我自己都很期待，哈哈。<br/><br/>　　加油吧，各位。<br/><br/>　　我今天晚上先加班写材料去了，哈哈。<br/><br/>　　请收藏本站：https://www.biqg.cc。笔趣阁手机版：https://m.biqg.cc <br/><br/>\n",
      "</div>\n"
     ]
    }
   ],
   "source": [
    "con = Connection(\n",
    "    host=\"10.1.92.46\",\n",
    "    port=3306, \n",
    "    user=\"root\",\n",
    "    passwd=\"hk123\" ,\n",
    "    database=\"library\",\n",
    "    charset=\"utf8mb4\",\n",
    "    )\n",
    "try:\n",
    "    cursor = con.cursor()\n",
    "    cursor.execute(f\"SELECT title, content,book_name FROM book_content WHERE title = '';\")\n",
    "    content_tuple = cursor.fetchall()\n",
    "    title = content_tuple[0][0]\n",
    "    content = content_tuple[0][1]\n",
    "    book_name = content_tuple[0][2]\n",
    "    \n",
    "finally:\n",
    "    con.close()"
   ]
  },
  {
   "cell_type": "code",
   "execution_count": 96,
   "metadata": {},
   "outputs": [
    {
     "name": "stdout",
     "output_type": "stream",
     "text": [
      "(('三国演义',),)\n",
      "(('第一回 宴桃园豪杰三结义 斩黄巾英雄首立功\\n', 22921), ('第一回 宴桃园豪杰三结义 斩黄巾英雄首立功\\n', 22922), ('第一百一十一回 邓士载智败姜伯约 诸葛诞义讨司\\n', 22926), ('第一百一十一回 邓士载智败姜伯约 诸葛诞义讨司\\n', 22927), ('第一百一十七回 邓士载偷度阴平 诸葛瞻战死绵竹\\n', 22935), ('第一百一十七回 邓士载偷度阴平 诸葛瞻战死绵竹\\n', 22936), ('第一百一十三回 丁奉定计斩孙綝 姜维斗阵破邓艾\\n', 22943), ('第一百一十三回 丁奉定计斩孙綝 姜维斗阵破邓艾\\n', 22944), ('第一百一十九回 假投降巧计成虚话 再受禅依样画\\n', 22952), ('第一百一十九回 假投降巧计成虚话 再受禅依样画\\n', 22953), ('第一百一十二回 救寿春于诠死节 取长城伯约鏖兵\\n', 22962), ('第一百一十二回 救寿春于诠死节 取长城伯约鏖兵\\n', 22963), ('第一百一十五回 诏班师后主信谗 托屯田姜维避祸\\n', 22972), ('第一百一十五回 诏班师后主信谗 托屯田姜维避祸\\n', 22973), ('第一百一十八回 哭祖庙一王死孝 入西川二士争功\\n', 22981), ('第一百一十八回 哭祖庙一王死孝 入西川二士争功\\n', 22982), ('第一百一十六回 钟会分兵汉中道 武侯显圣定军山\\n', 22990), ('第一百一十六回 钟会分兵汉中道 武侯显圣定军山\\n', 22991), ('第一百一十四回 曹髦驱车死南阙 姜维弃粮胜魏兵\\n', 22999), ('第一百一十四回 曹髦驱车死南阙 姜维弃粮胜魏兵\\n', 23000), ('第一百一十回 文鸯单骑退雄兵 姜维背水破大敌\\n', 23007), ('第一百一十回 文鸯单骑退雄兵 姜维背水破大敌\\n', 23008), ('第一百二十回 荐杜预老将献新谋 降孙皓三分归一\\n', 23255), ('第一百二十回 荐杜预老将献新谋 降孙皓三分归一\\n', 23256), ('第一百回 汉兵劫寨破曹真 武侯斗阵辱仲达\\n', 23519), ('第一百回 汉兵劫寨破曹真 武侯斗阵辱仲达\\n', 23520), ('第一百零一回 出陇上诸葛妆神 奔剑阁张郃中计\\n', 23528), ('第一百零一回 出陇上诸葛妆神 奔剑阁张郃中计\\n', 23529), ('第一百零七回 魏主政归司马氏 姜维兵败牛头山\\n', 23538), ('第一百零七回 魏主政归司马氏 姜维兵败牛头山\\n', 23539), ('第一百零三回 上方谷司马受困 五丈原诸葛禳星\\n', 23546), ('第一百零三回 上方谷司马受困 五丈原诸葛禳星\\n', 23547), ('第一百零九回 困司马汉将奇谋 废曹芳魏家果报\\n', 23555), ('第一百零九回 困司马汉将奇谋 废曹芳魏家果报\\n', 23556), ('第一百零二回 司马懿占北原渭桥 诸葛亮造木牛流\\n', 23564), ('第一百零二回 司马懿占北原渭桥 诸葛亮造木牛流\\n', 23565), ('第一百零五回 武侯预伏锦囊计 魏主拆取承露盘\\n', 23574), ('第一百零五回 武侯预伏锦囊计 魏主拆取承露盘\\n', 23575), ('第一百零八回 丁奉雪中奋短兵 孙峻席间施密计\\n', 23582), ('第一百零八回 丁奉雪中奋短兵 孙峻席间施密计\\n', 23583), ('第一百零六回 公孙渊兵败死襄平 司马懿诈病赚曹\\n', 23592), ('第一百零六回 公孙渊兵败死襄平 司马懿诈病赚曹\\n', 23593), ('第一百零四回 陨大星汉丞相归天 见木像魏都督丧\\n', 23601), ('第一百零四回 陨大星汉丞相归天 见木像魏都督丧\\n', 23602), ('第七十一回 占对山黄忠逸待劳 据汉水赵云寡胜众\\n', 23617), ('第七十一回 占对山黄忠逸待劳 据汉水赵云寡胜众\\n', 23618), ('第七十七回 玉泉山关公显圣 洛阳城曹操感神\\n', 23630), ('第七十七回 玉泉山关公显圣 洛阳城曹操感神\\n', 23631), ('第七十三回 玄德进位汉中王 云长攻拔襄阳郡\\n', 23639), ('第七十三回 玄德进位汉中王 云长攻拔襄阳郡\\n', 23640), ('第七十九回 兄逼弟曹植赋诗 侄陷叔刘封伏法\\n', 23650), ('第七十九回 兄逼弟曹植赋诗 侄陷叔刘封伏法\\n', 23651), ('第七十二回 诸葛亮智取汉中 曹阿瞒兵退斜谷\\n', 23663), ('第七十二回 诸葛亮智取汉中 曹阿瞒兵退斜谷\\n', 23664), ('第七十五回 关云长刮骨疗毒 吕子明白衣渡江\\n', 23672), ('第七十五回 关云长刮骨疗毒 吕子明白衣渡江\\n', 23673), ('第七十八回 治风疾神医身死 传遗命奸雄数终\\n', 23684), ('第七十八回 治风疾神医身死 传遗命奸雄数终\\n', 23685), ('第七十六回 徐公明大战沔水 关云长败走麦城\\n', 23696), ('第七十六回 徐公明大战沔水 关云长败走麦城\\n', 23697), ('第七十四回 庞令明抬榇决死战 关云长放水淹七军\\n', 23705), ('第七十四回 庞令明抬榇决死战 关云长放水淹七军\\n', 23706), ('第七十回 猛张飞智取瓦口隘 老黄忠计夺天荡山\\n', 23718), ('第七十回 猛张飞智取瓦口隘 老黄忠计夺天荡山\\n', 23719), ('第七回 袁绍磐河战公孙 孙坚跨江击刘表\\n', 23728), ('第七回 袁绍磐河战公孙 孙坚跨江击刘表\\n', 23729), ('第三十一回 曹操仓亭破本初 玄德荆州依刘表\\n', 24136), ('第三十一回 曹操仓亭破本初 玄德荆州依刘表\\n', 24137), ('第三十七回 司马徽再荐名士 刘玄德三顾草庐\\n', 24147), ('第三十七回 司马徽再荐名士 刘玄德三顾草庐\\n', 24148), ('第三十三回 曹丕乘乱纳甄氏 郭嘉遗计定辽东\\n', 24158), ('第三十三回 曹丕乘乱纳甄氏 郭嘉遗计定辽东\\n', 24159), ('第三十九回 荆州城公子三求计 博望坡军师初用兵\\n', 24170), ('第三十九回 荆州城公子三求计 博望坡军师初用兵\\n', 24171), ('第三十二回 夺冀州袁尚争锋 决漳河许攸献计\\n', 24179), ('第三十二回 夺冀州袁尚争锋 决漳河许攸献计\\n', 24180), ('第三十五回 玄德南漳逢隐沧 单福新野遇英主\\n', 24191), ('第三十五回 玄德南漳逢隐沧 单福新野遇英主\\n', 24192), ('第三十八回 定三分隆中决策 战长江孙氏报仇\\n', 24201), ('第三十八回 定三分隆中决策 战长江孙氏报仇\\n', 24202), ('第三十六回 玄德用计袭樊城 元直走马荐诸葛\\n', 24213), ('第三十六回 玄德用计袭樊城 元直走马荐诸葛\\n', 24214), ('第三十四回 蔡夫人隔屏听密语 刘皇叔跃马过檀溪\\n', 24225), ('第三十四回 蔡夫人隔屏听密语 刘皇叔跃马过檀溪\\n', 24226), ('第三十回 战官渡本初败绩 劫乌巢孟德烧粮\\n', 24236), ('第三十回 战官渡本初败绩 劫乌巢孟德烧粮\\n', 24237), ('第三回 议温明董卓叱丁原 馈金珠李肃说吕布\\n', 24253), ('第三回 议温明董卓叱丁原 馈金珠李肃说吕布\\n', 24254), ('第九十一回 祭泸水汉相班师 伐中原武侯上表\\n', 25508), ('第九十一回 祭泸水汉相班师 伐中原武侯上表\\n', 25509), ('第九十七回 讨魏国武侯再上表 破曹兵姜维诈献书\\n', 25519), ('第九十七回 讨魏国武侯再上表 破曹兵姜维诈献书\\n', 25520), ('第九十三回 姜伯约归降孔明 武乡侯骂死王朗\\n', 25528), ('第九十三回 姜伯约归降孔明 武乡侯骂死王朗\\n', 25529), ('第九十九回 诸葛亮大破魏兵 司马懿入寇西蜀\\n', 25541), ('第九十九回 诸葛亮大破魏兵 司马懿入寇西蜀\\n', 25542), ('第九十二回 赵子龙力斩五将 诸葛亮智取三城\\n', 25551), ('第九十二回 赵子龙力斩五将 诸葛亮智取三城\\n', 25552), ('第九十五回 马谡拒谏失街亭 武侯弹琴退仲达\\n', 25562), ('第九十五回 马谡拒谏失街亭 武侯弹琴退仲达\\n', 25563), ('第九十八回 追汉军王双受诛 袭陈仓武侯取胜\\n', 25573), ('第九十八回 追汉军王双受诛 袭陈仓武侯取胜\\n', 25574), ('第九十六回 孔明挥泪斩马谡 周鲂断发赚曹休\\n', 25581), ('第九十六回 孔明挥泪斩马谡 周鲂断发赚曹休\\n', 25582), ('第九十四回 诸葛亮乘雪破羌兵 司马懿克日擒孟达\\n', 25593), ('第九十四回 诸葛亮乘雪破羌兵 司马懿克日擒孟达\\n', 25594), ('第九十回 驱巨兽六破蛮兵 烧藤甲七擒孟获\\n', 25604), ('第九十回 驱巨兽六破蛮兵 烧藤甲七擒孟获\\n', 25605), ('第九回 除暴凶吕布助司徒 犯长安李傕听贾诩\\n', 25615), ('第九回 除暴凶吕布助司徒 犯长安李傕听贾诩\\n', 25616), ('第二十一回 曹操煮酒论英雄 关公赚城斩车胄\\n', 25979), ('第二十一回 曹操煮酒论英雄 关公赚城斩车胄\\n', 25980), ('第二十七回 美髯公千里走单骑 汉寿侯五关斩六将\\n', 25992), ('第二十七回 美髯公千里走单骑 汉寿侯五关斩六将\\n', 25993), ('第二十三回 祢正平裸衣骂贼 吉太医下毒遭刑\\n', 26002), ('第二十三回 祢正平裸衣骂贼 吉太医下毒遭刑\\n', 26003), ('第二十九回 小霸王怒斩于吉 碧眼儿坐领江东\\n', 26013), ('第二十九回 小霸王怒斩于吉 碧眼儿坐领江东\\n', 26014), ('第二十二回 袁曹各起马步三军 关张共擒王刘二将\\n', 26025), ('第二十二回 袁曹各起马步三军 关张共擒王刘二将\\n', 26026), ('第二十五回 屯土山关公约三事 救白马曹操解重围\\n', 26035), ('第二十五回 屯土山关公约三事 救白马曹操解重围\\n', 26036), ('第二十八回 斩蔡阳兄弟释疑 会古城主臣聚义\\n', 26045), ('第二十八回 斩蔡阳兄弟释疑 会古城主臣聚义\\n', 26046), ('第二十六回 袁本初败兵折将 关云长挂印封金\\n', 26058), ('第二十六回 袁本初败兵折将 关云长挂印封金\\n', 26059), ('第二十四回 国贼行凶杀贵妃 皇叔败走投袁绍\\n', 26067), ('第二十四回 国贼行凶杀贵妃 皇叔败走投袁绍\\n', 26068), ('第二十回 曹阿瞒许田打围 董国舅内阁受诏\\n', 26078), ('第二十回 曹阿瞒许田打围 董国舅内阁受诏\\n', 26079), ('第二回 张翼德怒鞭督邮 何国舅谋诛宦竖\\n', 26705), ('第二回 张翼德怒鞭督邮 何国舅谋诛宦竖\\n', 26706), ('第五十一回 曹仁大战东吴兵 孔明一气周公瑾\\n', 27219), ('第五十一回 曹仁大战东吴兵 孔明一气周公瑾\\n', 27220), ('第五十七回 柴桑口卧龙吊丧 耒阳县凤雏理事\\n', 27232), ('第五十七回 柴桑口卧龙吊丧 耒阳县凤雏理事\\n', 27233), ('第五十三回 关云长义释黄汉升 孙仲谋大战张文远\\n', 27242), ('第五十三回 关云长义释黄汉升 孙仲谋大战张文远\\n', 27243), ('第五十九回 许诸裸衣斗马超 曹操抹书间韩遂\\n', 27254), ('第五十九回 许诸裸衣斗马超 曹操抹书间韩遂\\n', 27255), ('第五十二回 诸葛亮智辞鲁肃 赵子龙计取桂阳\\n', 27265), ('第五十二回 诸葛亮智辞鲁肃 赵子龙计取桂阳\\n', 27266), ('第五十五回 玄德智激孙夫人 孔明二气周公瑾\\n', 27275), ('第五十五回 玄德智激孙夫人 孔明二气周公瑾\\n', 27276), ('第五十八回 马孟起兴兵雪恨 曹阿瞒割须弃袍\\n', 27287), ('第五十八回 马孟起兴兵雪恨 曹阿瞒割须弃袍\\n', 27288), ('第五十六回 曹操大宴铜雀台 孔明三气周公瑾\\n', 27298), ('第五十六回 曹操大宴铜雀台 孔明三气周公瑾\\n', 27299), ('第五十四回 吴国太佛寺看新郎 刘皇叔洞房续佳偶\\n', 27308), ('第五十四回 吴国太佛寺看新郎 刘皇叔洞房续佳偶\\n', 27309), ('第五十回 诸葛亮智算华容 关云长义释曹操\\n', 27320), ('第五十回 诸葛亮智算华容 关云长义释曹操\\n', 27321), ('第五回 发矫诏诸镇应曹公 破关兵三英战吕布\\n', 27330), ('第五回 发矫诏诸镇应曹公 破关兵三英战吕布\\n', 27331), ('第八十一回 急兄仇张飞遇害 雪弟恨先主兴兵\\n', 27837), ('第八十一回 急兄仇张飞遇害 雪弟恨先主兴兵\\n', 27838), ('第八十七回 征南寇丞相大兴师 抗天兵蛮王初受执\\n', 27848), ('第八十七回 征南寇丞相大兴师 抗天兵蛮王初受执\\n', 27849), ('第八十三回 战猇亭先主得仇人 守江口书生拜大将\\n', 27859), ('第八十三回 战猇亭先主得仇人 守江口书生拜大将\\n', 27860), ('第八十九回 武乡侯四番用计 南蛮王五次遭擒\\n', 27871), ('第八十九回 武乡侯四番用计 南蛮王五次遭擒\\n', 27872), ('第八十二回 孙权降魏受九锡 先主征吴赏六军\\n', 27880), ('第八十二回 孙权降魏受九锡 先主征吴赏六军\\n', 27881), ('第八十五回 刘先主遗诏托孤儿 诸葛亮安居平五路\\n', 27891), ('第八十五回 刘先主遗诏托孤儿 诸葛亮安居平五路\\n', 27892), ('第八十八回 渡泸水再缚番王 识诈降三擒孟获\\n', 27903), ('第八十八回 渡泸水再缚番王 识诈降三擒孟获\\n', 27904), ('第八十六回 难张温秦宓逞天辩 破曹丕徐盛用火攻\\n', 27915), ('第八十六回 难张温秦宓逞天辩 破曹丕徐盛用火攻\\n', 27916), ('第八十四回 陆逊营烧七百里 孔明巧布八阵图\\n', 27926), ('第八十四回 陆逊营烧七百里 孔明巧布八阵图\\n', 27927), ('第八十回 曹丕废帝篡炎刘 汉王正位续大统\\n', 27936), ('第八十回 曹丕废帝篡炎刘 汉王正位续大统\\n', 27937), ('第八回 王司徒巧使连环计 董太师大闹凤仪亭\\n', 27948), ('第八回 王司徒巧使连环计 董太师大闹凤仪亭\\n', 27949), ('第六十一回 赵云截江夺阿斗 孙权遗书退老瞒\\n', 28358), ('第六十一回 赵云截江夺阿斗 孙权遗书退老瞒\\n', 28359), ('第六十七回 曹操平定汉中地 张辽威震逍遥津\\n', 28368), ('第六十七回 曹操平定汉中地 张辽威震逍遥津\\n', 28369), ('第六十三回 诸葛亮痛哭庞统 张翼德义释严颜\\n', 28380), ('第六十三回 诸葛亮痛哭庞统 张翼德义释严颜\\n', 28381), ('第六十九回 卜周易管辂知机 讨汉贼五臣死节\\n', 28389), ('第六十九回 卜周易管辂知机 讨汉贼五臣死节\\n', 28390), ('第六十二回 取涪关杨高授首 攻雒城黄魏争功\\n', 28401), ('第六十二回 取涪关杨高授首 攻雒城黄魏争功\\n', 28402), ('第六十五回 马超大战葭萌关 刘备自领益州牧\\n', 28413), ('第六十五回 马超大战葭萌关 刘备自领益州牧\\n', 28414), ('第六十八回 甘宁百骑劫魏营 左慈掷杯戏曹操\\n', 28423), ('第六十八回 甘宁百骑劫魏营 左慈掷杯戏曹操\\n', 28424), ('第六十六回 关云长单刀赴会 伏皇后为国捐生\\n', 28433), ('第六十六回 关云长单刀赴会 伏皇后为国捐生\\n', 28434), ('第六十四回 孔明定计捉张任 杨阜借兵破马超\\n', 28444), ('第六十四回 孔明定计捉张任 杨阜借兵破马超\\n', 28445), ('第六十回 张永年反难杨修 庞士元议取西蜀\\n', 28456), ('第六十回 张永年反难杨修 庞士元议取西蜀\\n', 28457), ('第六回 焚金阙董卓行凶 匿玉玺孙坚背约\\n', 28466), ('第六回 焚金阙董卓行凶 匿玉玺孙坚背约\\n', 28467), ('第十一回 刘皇叔北海救孔融 吕温侯濮阳破曹操\\n', 28877), ('第十一回 刘皇叔北海救孔融 吕温侯濮阳破曹操\\n', 28878), ('第十七回 袁公路大起七军 曹孟德会合三将\\n', 28890), ('第十七回 袁公路大起七军 曹孟德会合三将\\n', 28891), ('第十三回 李傕郭汜大交兵 杨奉董承双救驾\\n', 28899), ('第十三回 李傕郭汜大交兵 杨奉董承双救驾\\n', 28900), ('第十九回 下邳城曹操鏖兵 白门楼吕布殒命\\n', 28910), ('第十九回 下邳城曹操鏖兵 白门楼吕布殒命\\n', 28911), ('第十二回 陶恭祖三让徐州 曹孟德大战吕布\\n', 28922), ('第十二回 陶恭祖三让徐州 曹孟德大战吕布\\n', 28923), ('第十五回 太史慈酣斗小霸王 孙伯符大战严白虎\\n', 28932), ('第十五回 太史慈酣斗小霸王 孙伯符大战严白虎\\n', 28933), ('第十八回 贾文和料敌决胜 夏侯惇拨矢啖睛\\n', 28944), ('第十八回 贾文和料敌决胜 夏侯惇拨矢啖睛\\n', 28945), ('第十六回 吕奉先射戟辕门 曹孟德败师淯水\\n', 28954), ('第十六回 吕奉先射戟辕门 曹孟德败师淯水\\n', 28955), ('第十四回 曹孟德移驾幸许都 吕奉先乘夜袭徐郡\\n', 28966), ('第十四回 曹孟德移驾幸许都 吕奉先乘夜袭徐郡\\n', 28967), ('第十回 勤王室马腾举义 报父仇曹操兴师\\n', 28976), ('第十回 勤王室马腾举义 报父仇曹操兴师\\n', 28977), ('第四十一回 刘玄德携民渡江 赵子龙单骑救主\\n', 28987), ('第四十一回 刘玄德携民渡江 赵子龙单骑救主\\n', 28988), ('第四十七回 阚泽密献诈降书 庞统巧授连环计\\n', 29000), ('第四十七回 阚泽密献诈降书 庞统巧授连环计\\n', 29001), ('第四十三回 诸葛亮舌战群儒 鲁子敬力排众议\\n', 29009), ('第四十三回 诸葛亮舌战群儒 鲁子敬力排众议\\n', 29010), ('第四十九回 七星坛诸葛祭风 三江口周瑜纵火\\n', 29020), ('第四十九回 七星坛诸葛祭风 三江口周瑜纵火\\n', 29021), ('第四十二回 张翼德大闹长坂桥 刘豫州败走汉津口\\n', 29032), ('第四十二回 张翼德大闹长坂桥 刘豫州败走汉津口\\n', 29033), ('第四十五回 三江口曹操折兵 群英会蒋干中计\\n', 29042), ('第四十五回 三江口曹操折兵 群英会蒋干中计\\n', 29043), ('第四十八回 宴长江曹操赋诗 锁战船北军用武\\n', 29053), ('第四十八回 宴长江曹操赋诗 锁战船北军用武\\n', 29054), ('第四十六回 用奇谋孔明借箭 献密计黄盖受刑\\n', 29066), ('第四十六回 用奇谋孔明借箭 献密计黄盖受刑\\n', 29067), ('第四十四回 孔明用智激周瑜 孙权决计破曹操\\n', 29076), ('第四十四回 孔明用智激周瑜 孙权决计破曹操\\n', 29077), ('第四十回 蔡夫人议献荆州 诸葛亮火烧新野\\n', 29088), ('第四十回 蔡夫人议献荆州 诸葛亮火烧新野\\n', 29089), ('第四回 废汉帝陈留践位 谋董贼孟德献刀\\n', 29098), ('第四回 废汉帝陈留践位 谋董贼孟德献刀\\n', 29099))\n"
     ]
    }
   ],
   "source": [
    "con = Connection(\n",
    "    host=\"10.1.92.46\",\n",
    "    port=3306, \n",
    "    user=\"root\",\n",
    "    passwd=\"hk123\" ,\n",
    "    database=\"library\",\n",
    "    charset=\"utf8mb4\",\n",
    "    )\n",
    "try:\n",
    "    cursor = con.cursor()\n",
    "    # 获取书名\n",
    "    cursor.execute(f\"SELECT book_name FROM books WHERE book_id = 3;\")\n",
    "    book_name = cursor.fetchall()\n",
    "    # 获取章节名\n",
    "    cursor.execute(f\"SELECT title, chapter_id FROM book_content JOIN books ON book_content.book_name=books.book_name WHERE book_id = 3;\")\n",
    "    chapter_name = cursor.fetchall()\n",
    "    print(book_name)\n",
    "    print(chapter_name)\n",
    "\n",
    "\n",
    "finally:\n",
    "    con.close()"
   ]
  },
  {
   "cell_type": "code",
   "execution_count": 116,
   "metadata": {},
   "outputs": [
    {
     "name": "stdout",
     "output_type": "stream",
     "text": [
      "(('《官仙》的老书友请进', '<div class=\"Readarea ReadAjax_content\" id=\"chaptercontent\">\\u3000\\u3000三个月不见，你们还好吗？<br/><br/>\\u3000\\u3000关于老书被屏蔽一事，是暂时的保护性屏蔽，至于说暂时多久，风笑就不知道了，对于那些曾经订阅的读者，风笑表示深深的歉意。<br/><br/>\\u3000\\u3000对不起！<br/><br/>\\u3000\\u3000（叹气，我也不想被屏蔽啊。）<br/><br/>\\u3000\\u3000新书是陈太忠前传，哈哈，陈某人又回来了。<br/><br/>\\u3000\\u3000有不止一个书友说，主角的结局，我们都已经知道了，丫重生了，你写这本《狂仙》，不是闹心吗？<br/><br/>\\u3000\\u3000话有道理，但这本书是仙侠，是仙侠哎。<br/><br/>\\u3000\\u3000没错，既然是仙侠，一切皆有可能，请不要小看风笑编故事的能力。<br/><br/>\\u3000\\u3000至于更新，本周无推荐，就先每天一更吧，晚上九点左右。<br/><br/>\\u3000\\u3000休息了一段时间，手感差了一些，而且仙侠不比都市，行文和节奏是不一样的，风笑的手速受到了严重的影响。<br/><br/>\\u3000\\u3000狂仙前期的行文，也是比较紧凑的，虽然是一更，内容不会少。<br/><br/>\\u3000\\u3000喜欢肥美书的朋友，也可以选择先收藏，等到狂仙比较壮硕的时候，再宰杀也不迟。<br/><br/>\\u3000\\u300008年6月17日，那是个星期二，官仙上传第一章；14年6月17日，依旧是周二，狂仙开始上传。<br/><br/>\\u3000\\u3000让我们再次一路相随，成为彼此生命旅途中相伴的风景。<br/><br/>\\u3000\\u3000最后，新书上传，求收藏和各种票票，新书期，各种票都是免费的，更要请书友们相互帮忙转告。<br/><br/>\\u3000\\u3000风笑谢谢大家了。<br/><br/>\\u3000\\u3000请收藏本站：https://www.biqg.cc。笔趣阁手机版：https://m.biqg.cc <br/><br/>\\n</div>', 1, '狂仙'),)\n",
      "《官仙》的老书友请进\n",
      "1\n",
      "((971,),)\n",
      "()\n",
      "((121,),)\n"
     ]
    }
   ],
   "source": [
    "con = Connection(\n",
    "    host=\"10.1.92.46\",\n",
    "    port=3306, \n",
    "    user=\"root\",\n",
    "    passwd=\"hk123\" ,\n",
    "    database=\"library\",\n",
    "    charset=\"utf8mb4\",\n",
    "    )\n",
    "try:\n",
    "    # 找到章节名,内容,页数和下个页数\n",
    "    cursor = con.cursor()\n",
    "    cursor.execute(f\"SELECT title, content, chapter_num, book_name FROM book_content WHERE chapter_id = 2;\")\n",
    "    content_tuple = cursor.fetchall()\n",
    "    print(content_tuple)\n",
    "    title = content_tuple[0][0]                 # 这一章的标题\n",
    "    print(title)\n",
    "    content = content_tuple[0][1]               # 内容\n",
    "    chapter_num = content_tuple[0][2]           # 找到当前页数\n",
    "    book_name = content_tuple[0][3]             # 找到书名\n",
    "    next_chapter_num = int(chapter_num)+1       # 下一章用的\n",
    "    previous_chapter = int(chapter_num)-1       # 上一章用的\n",
    "    print(chapter_num)\n",
    "\n",
    "    # 找到下一章的章节号\n",
    "    cursor.execute(f\"SELECT chapter_id FROM book_content WHERE chapter_num = '{next_chapter_num}' AND book_name = '{book_name}';\")\n",
    "    next_chapter_id = cursor.fetchall()\n",
    "    print(next_chapter_id)\n",
    "\n",
    "    # 找到上一章的章节号\n",
    "    cursor.execute(f\"SELECT chapter_id FROM book_content WHERE chapter_num = '{previous_chapter}' AND book_name = '{book_name}';\")\n",
    "    previous_chapter_id = cursor.fetchall()\n",
    "    print(previous_chapter_id)\n",
    "\n",
    "\n",
    "    # 找到书的编号(返回目录用的)\n",
    "    cursor.execute(f\"SELECT MAX(chapter_num) FROM book_content JOIN books ON books.book_name = book_content.book_name WHERE book_id = 2;\")\n",
    "    book_id = cursor.fetchall()\n",
    "    print(book_id)\n",
    "\n",
    "    \n",
    "    \n",
    "finally:\n",
    "    con.close()"
   ]
  },
  {
   "cell_type": "code",
   "execution_count": 121,
   "metadata": {},
   "outputs": [
    {
     "name": "stdout",
     "output_type": "stream",
     "text": [
      "2\n",
      "3\n",
      "1\n",
      "26704\n",
      "1001\n",
      "2\n",
      "121\n"
     ]
    }
   ],
   "source": [
    "con = Connection(\n",
    "    host=\"10.1.92.46\",\n",
    "    port=3306, \n",
    "    user=\"root\",\n",
    "    passwd=\"hk123\" ,\n",
    "    database=\"library\",\n",
    "    charset=\"utf8mb4\",\n",
    "    )\n",
    "\n",
    "try:\n",
    "    # 找到章节名,内容,页数和下个页数\n",
    "    cursor = con.cursor()\n",
    "    cursor.execute(f\"SELECT title, content, chapter_num, book_name FROM book_content WHERE chapter_id = 22923;\")\n",
    "    content_tuple = cursor.fetchall()\n",
    "    title = content_tuple[0][0]                 # 这一章的标题\n",
    "    content = content_tuple[0][1]               # 内容\n",
    "    chapter_num = content_tuple[0][2]           # 找到当前页数\n",
    "    book_name = content_tuple[0][3]             # 找到书名\n",
    "    next_chapter_num = int(chapter_num)+1       # 下一章用的\n",
    "    previous_chapter = int(chapter_num)-1       # 上一章用的\n",
    "    print(chapter_num)\n",
    "    print(next_chapter_num)\n",
    "    print(previous_chapter)\n",
    "\n",
    "    # 找到下一章的章节号\n",
    "    cursor.execute(f\"SELECT chapter_id FROM book_content WHERE chapter_num = '{next_chapter_num}' AND book_name = '{book_name}';\")\n",
    "    next_chapter_id = cursor.fetchall()[0][0]\n",
    "    print(next_chapter_id)\n",
    "\n",
    "    # 找到上一章的章节号\n",
    "    cursor.execute(f\"SELECT chapter_id FROM book_content WHERE chapter_num = '{previous_chapter}' AND book_name = '{book_name}';\")\n",
    "    previous_chapter_id = cursor.fetchall()[0][0]\n",
    "    print(previous_chapter_id)\n",
    "\n",
    "    # 找到书的编号(返回目录用的)\n",
    "    cursor.execute(f\"SELECT book_id FROM books JOIN book_content ON books.book_name = book_content.book_name WHERE chapter_id = 22923;\")\n",
    "    book_id = cursor.fetchall()[0][0]\n",
    "    print(book_id)\n",
    "\n",
    "    # 找到章节号最大值\n",
    "    cursor.execute(f\"SELECT MAX(chapter_num) FROM book_content JOIN books ON books.book_name=book_content.book_name WHERE books.book_name = '{book_name}';\")\n",
    "    max_chapter_num = cursor.fetchall()[0][0]\n",
    "    print(max_chapter_num)\n",
    "\n",
    "\n",
    "finally:\n",
    "    con.close()"
   ]
  }
 ],
 "metadata": {
  "kernelspec": {
   "display_name": "Python 3",
   "language": "python",
   "name": "python3"
  },
  "language_info": {
   "codemirror_mode": {
    "name": "ipython",
    "version": 3
   },
   "file_extension": ".py",
   "mimetype": "text/x-python",
   "name": "python",
   "nbconvert_exporter": "python",
   "pygments_lexer": "ipython3",
   "version": "3.10.6"
  }
 },
 "nbformat": 4,
 "nbformat_minor": 2
}
