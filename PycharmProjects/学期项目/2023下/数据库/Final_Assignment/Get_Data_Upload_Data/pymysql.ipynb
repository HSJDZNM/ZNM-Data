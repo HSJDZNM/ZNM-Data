{
 "cells": [
  {
   "cell_type": "code",
   "execution_count": 13,
   "metadata": {},
   "outputs": [],
   "source": [
    "from pymysql import Connection"
   ]
  },
  {
   "cell_type": "code",
   "execution_count": 9,
   "metadata": {},
   "outputs": [
    {
     "name": "stdout",
     "output_type": "stream",
     "text": [
      "<class 'pymysql.connections.Connection'>\n"
     ]
    }
   ],
   "source": [
    "con = None\n",
    "try:\n",
    "    # 创建数据库连接\n",
    "    con = Connection(\n",
    "        host=\"localhost\",# 主机名\n",
    "        port=3306, # 端口\n",
    "        user=\"root\", # 账户\n",
    "        passwd=\"hk123\" # 密码\n",
    "    )\n",
    "    print(type(con))\n",
    "\n",
    "except Exception as e:\n",
    "    print(\"异常:\" + e)\n",
    "\n",
    "finally:\n",
    "    # 关闭连接\n",
    "    con.close()"
   ]
  },
  {
   "cell_type": "code",
   "execution_count": 10,
   "metadata": {},
   "outputs": [
    {
     "name": "stdout",
     "output_type": "stream",
     "text": [
      "Database 'Library' created successfully.\n"
     ]
    }
   ],
   "source": [
    "con = None\n",
    "try:\n",
    "    # 创建数据库连接\n",
    "    con = Connection(\n",
    "        host=\"localhost\",# 主机名\n",
    "        port=3306, # 端口\n",
    "        user=\"root\", # 账户\n",
    "        passwd=\"hk123\" # 密码\n",
    "    )\n",
    "    # 创建游标\n",
    "    cursor = con.cursor()\n",
    "\n",
    "    # 创建数据库\n",
    "    database_name = \"Library\"\n",
    "    cursor.execute(f\"CREATE DATABASE {database_name}\")\n",
    "    print(f\"Database '{database_name}' created successfully.\")\n",
    "\n",
    "except Exception as e:\n",
    "    print(\"异常:\" + e)\n",
    "\n",
    "finally:\n",
    "    # 关闭连接\n",
    "    con.close()"
   ]
  },
  {
   "cell_type": "code",
   "execution_count": null,
   "metadata": {},
   "outputs": [],
   "source": [
    "con = None\n",
    "try:\n",
    "    # 创建数据库连接\n",
    "    con = Connection(\n",
    "        host=\"localhost\",# 主机名\n",
    "        port=3306, # 端口\n",
    "        user=\"root\", # 账户\n",
    "        passwd=\"hk123\" # 密码\n",
    "    )\n",
    "    # 创建游标\n",
    "    cursor = con.cursor()\n",
    "\n",
    "    # 创建图书表\n",
    "    cursor.execute(\"\"\"\n",
    "    CREATE TABLE books (\n",
    "        book_name varchar(60) primary key,\n",
    "        author varbinary(30) not null,\n",
    "        tag varbinary(20) not null\n",
    "    );\n",
    "    \"\"\")\n",
    "\n",
    "    print(\"Table 'books' created successfully.\")\n",
    "\n",
    "    # 创建内容表\n",
    "    cursor.execute(\"\"\"\n",
    "    CREATE TABLE book_content(\n",
    "        book_name varchar(60) primary key,\n",
    "        chapter_num varchar(30) not null,\n",
    "        title varchar(90) not null,\n",
    "        content longtext not null\n",
    "    );\n",
    "    \"\"\")\n",
    "\n",
    "    print(\"Table 'book_content' created successfully.\")\n",
    "\n",
    "except Exception as e:\n",
    "    print(\"异常:\" + e)\n",
    "\n",
    "finally:\n",
    "    # 关闭连接\n",
    "    con.close()"
   ]
  },
  {
   "cell_type": "code",
   "execution_count": null,
   "metadata": {},
   "outputs": [],
   "source": [
    "con = None\n",
    "try:\n",
    "    # 创建数据库连接\n",
    "    con = Connection(\n",
    "        host=\"localhost\",# 主机名\n",
    "        port=3306, # 端口\n",
    "        user=\"root\", # 账户\n",
    "        passwd=\"hk123\" # 密码\n",
    "    )\n",
    "    cursor = con.cursor()\n",
    "\n",
    "    cursor.execute(\"insert into book_content values ()\")\n",
    "\n",
    "except Exception as e:\n",
    "    print(\"异常:\" + e)\n",
    "\n",
    "finally:\n",
    "    # 确认提交\n",
    "    con.commit()\n",
    "    # 关闭连接\n",
    "    con.close()"
   ]
  }
 ],
 "metadata": {
  "kernelspec": {
   "display_name": "Python 3",
   "language": "python",
   "name": "python3"
  },
  "language_info": {
   "codemirror_mode": {
    "name": "ipython",
    "version": 3
   },
   "file_extension": ".py",
   "mimetype": "text/x-python",
   "name": "python",
   "nbconvert_exporter": "python",
   "pygments_lexer": "ipython3",
   "version": "3.10.6"
  }
 },
 "nbformat": 4,
 "nbformat_minor": 2
}
