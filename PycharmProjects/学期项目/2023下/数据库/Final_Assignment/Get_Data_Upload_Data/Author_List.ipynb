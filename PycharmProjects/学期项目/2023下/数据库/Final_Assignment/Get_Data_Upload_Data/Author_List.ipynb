{
 "cells": [
  {
   "cell_type": "code",
   "execution_count": 2,
   "metadata": {},
   "outputs": [],
   "source": [
    "from bs4 import BeautifulSoup\n",
    "import requests\n",
    "from urllib.parse import urljoin\n",
    "from pymysql import Connection\n",
    "import time\n",
    "import threading\n",
    "import concurrent.futures\n",
    "import re"
   ]
  },
  {
   "cell_type": "code",
   "execution_count": 3,
   "metadata": {},
   "outputs": [
    {
     "name": "stdout",
     "output_type": "stream",
     "text": [
      "<!DOCTYPE html>\n",
      "<html>\n",
      "<head>\n",
      "<meta charset=\"utf-8\">\n",
      "<meta name=\"viewport\" content=\"width=device-width, initial-scale=1.0, maximum-scale=1.0, minimum-scale=1.0, user-scalable=no\">\n",
      "<meta http-equiv=\"X-UA-Compatible\" content=\"IE=edge,chrome=1\">\n",
      "<meta name=\"renderer\" content=\"webkit|ie-comp|ie-stand\">\n",
      "<meta name=\"format-detection\" content=\"telephone=no\"/>\n",
      "<title>网游竞技_小说更新列表_第1页_笔趣阁</title>\n",
      "<meta name=\"keywords\" content=\"网游竞技,笔趣阁\" />\n",
      "<meta name=\"description\" content=\"笔趣阁是广大书友最值得收藏的网游竞技小说阅读网，分类书库收录了当前最好看的网游竞技小说，免费提供高质量的2022网游竞技小说更新列表_第1页，是广大爱好者必备的小说阅读网。\" />\n",
      "<link rel=\"stylesheet\" href=\"/css/style.css\" />\n",
      "<script type=\"text/javascript\" src=\"https://apps.bdimg.com/libs/jquery/1.8.3/jquery.min.js\"></script>\n",
      "<script type=\"text/javascript\" src=\"/js/compc.js?v=1.23\"></script>\n",
      "</head>\n",
      "<body>\n",
      "<div class=\"header_wap pc_none\">\n",
      "\t<a class=\"home\" href=\"javascript:history.go(-1);\"><svg class=\"lnr lnr-chevron-left-circle\"><use xlink:href=\"#lnr-chevron-left-circle\"></use></svg></a>\n",
      "\t<span class=\"title\">网游竞技</span>\n",
      "\t<a class=\"user\" href=\"/\"><svg class=\"lnr lnr-home\"><use xlink:href=\"#lnr-home\"></use></svg></a>\n",
      "</div>\n",
      "<div class=\"header_top\"></div>\n",
      "<div class=\"header\">\n",
      "\t<div class=\"wrap\">\n",
      "\t\t<div class=\"logo\">\n",
      "\t\t\t<a href=\"/\" title=\"笔趣阁\">笔趣阁</a>\n",
      "\t\t</div>\n",
      "\t\t<div class=\"search\"></div>\n",
      "\t\t<div class=\"share\"><a href=\"/bookcase.html\">阅读记录</a></div>\n",
      "\t</div>\n",
      "\t<div class=\"nav\"><ul><li class=\"this\"><a href=\"/\">首页</a></li><li><a href=\"/xuanhuan/\">玄幻</a></li><li><a href=\"/wuxia/\">武侠</a></li><li><a href=\"/dushi/\">都市</a></li><li><a href=\"/lishi/\">历史</a></li><li><a href=\"/wangyou/\">网游</a></li><li><a href=\"/kehuan/\">科幻</a></li><li><a href=\"/mm/\">女生</a></li><li><a href=\"/finish/\">完本</a></li><li><a href=\"/top/\">排行榜</a></li></ul></div>\n",
      "<div class=\"clear\"></div>\n",
      "</div>\n",
      "<div class=\"wrap class\">\n",
      "\t<div class=\"hot\">\n",
      "\t\t<div class=\"item\"><div class=\"image\"><a href=\"/book/161837/\"><img src=\"https://www.biqg.cc/bookimg/159/159368.jpg\" alt=\"聊天群：我的职业是巫师\" width=\"120\" height=\"150\" border=\"0\" /></a></div><dl><dt><span>忙而不茫</span><a href=\"/book/161837/\">聊天群：我的职业是巫师</a></dt><dd>聊天群：我的职业是巫师简介：本文将于10月11号入v，求支持！！！500年前，异种入侵，野怪来袭！要么进化，要么灭亡！在......</dd></dl></div><div class=\"item\"><div class=\"image\"><a href=\"/book/154736/\"><img src=\"https://www.biqg.cc/bookimg/157/157421.jpg\" alt=\"在无限游戏里点满技能成神\" width=\"120\" height=\"150\" border=\"0\" /></a></div><dl><dt><span>锦司司</span><a href=\"/book/154736/\">在无限游戏里点满技能成神</a></dt><dd>【无限流架空，克系元素，双洁1V1】姜栖偶然被带入一场疯狂，恐怖的无限游戏，这里有被污染的怪物，亵渎......</dd></dl></div><div class=\"item\"><div class=\"image\"><a href=\"/book/140589/\"><img src=\"https://www.biqg.cc/bookimg/144/144424.jpg\" alt=\"对手想研究我，发现我根本没上号\" width=\"120\" height=\"150\" border=\"0\" /></a></div><dl><dt><span>小莫别跑</span><a href=\"/book/140589/\">对手想研究我，发现我根本没上号</a></dt><dd>苏灿来到平行世界，成为LPL还未出道的一名天才新人，天赋异禀又勤奋努力。就在苏灿以为要兑现天赋的时候，......</dd></dl></div><div class=\"item\"><div class=\"image\"><a href=\"/book/146447/\"><img src=\"https://www.biqg.cc/bookimg/147/147614.jpg\" alt=\"诡异入侵：我在末世囤积亿万物资\" width=\"120\" height=\"150\" border=\"0\" /></a></div><dl><dt><span>肿瘤医生</span><a href=\"/book/146447/\">诡异入侵：我在末世囤积亿万物资</a></dt><dd>【末世】【系统】【异能】【囤积物资】【丧尸】一轮诡异红雨在全球同步降临，红雨中携带着一种诡异的病毒，无数人类动物因为感染......</dd></dl></div><div class=\"item\"><div class=\"image\"><a href=\"/book/157475/\"><img src=\"https://www.biqg.cc/bookimg/154/154682.jpg\" alt=\"无限副本：我在逃生游戏当病娇\" width=\"120\" height=\"150\" border=\"0\" /></a></div><dl><dt><span>柒柒不缺糖</span><a href=\"/book/157475/\">无限副本：我在逃生游戏当病娇</a></dt><dd>小可爱实则病娇女主高冷实则只为一人温柔装傻男主祈诺上一秒被人绑架，结果临门一脚被游戏选中，进入了求......</dd></dl></div><div class=\"item\"><div class=\"image\"><a href=\"/book/148192/\"><img src=\"https://www.biqg.cc/bookimg/145/145869.jpg\" alt=\"津门诡事录\" width=\"120\" height=\"150\" border=\"0\" /></a></div><dl><dt><span>苍茫天下</span><a href=\"/book/148192/\">津门诡事录</a></dt><dd>清末民初之时，天津卫城市壮大，百业兴旺，人口膨胀，许多灵异古怪的传说不胫而走，浮尸丹鼎、黄仙寻仇、水鬼拉脚、凶灵砌墙……......</dd></dl></div><div class=\"item\"><div class=\"image\"><a href=\"/book/13259/\"><img src=\"https://www.biqg.cc/bookimg/9/9362.jpg\" alt=\"从龙族开始的求死之路\" width=\"120\" height=\"150\" border=\"0\" /></a></div><dl><dt><span>刺猿菌</span><a href=\"/book/13259/\">从龙族开始的求死之路</a></dt><dd>不死的少年被送到了龙族世界。虽然死不了，但是面对一群小龙人他有点慌，可是渐渐发现这些人好像整不死他，甚至还让他越来越强。......</dd></dl></div><div class=\"item\"><div class=\"image\"><a href=\"/book/149011/\"><img src=\"https://www.biqg.cc/bookimg/145/145050.jpg\" alt=\"学霸的培养系面板\" width=\"120\" height=\"150\" border=\"0\" /></a></div><dl><dt><span>千越南秋</span><a href=\"/book/149011/\">学霸的培养系面板</a></dt><dd>作为高三学生的徐昀，突然发现自己眼前多出了一道虚拟面板，可以根据他的学习计划生成任务。任务：学霸的快乐要求：独立完成一百......</dd></dl></div><div class=\"item\"><div class=\"image\"><a href=\"/book/136610/\"><img src=\"https://www.biqg.cc/bookimg/139/139355.jpg\" alt=\"我叫路明菲，不是路明非！\" width=\"120\" height=\"150\" border=\"0\" /></a></div><dl><dt><span>尤希尔弗洛让梅尔</span><a href=\"/book/136610/\">我叫路明菲，不是路明非！</a></dt><dd>路明非眼睛一闭一睁，人生重来，成为叫做路明菲的女高中生！路明非被学生会打扮之后人模狗样→路明菲是王道的隐藏美少女路明非个......</dd></dl></div><div class=\"item\"><div class=\"image\"><a href=\"/book/162183/\"><img src=\"https://www.biqg.cc/bookimg/159/159022.jpg\" alt=\"被偷听心声后我成了朝廷团宠\" width=\"120\" height=\"150\" border=\"0\" /></a></div><dl><dt><span>蜡蜜</span><a href=\"/book/162183/\">被偷听心声后我成了朝廷团宠</a></dt><dd>【满朝文武读心女强爽文】系统闹失踪联系不上，被系统扔到架空古代的木楠锦决定摆烂。该吃就吃，该喝就......</dd></dl></div><div class=\"item\"><div class=\"image\"><a href=\"/book/146264/\"><img src=\"https://www.biqg.cc/bookimg/147/147797.jpg\" alt=\"欢迎来到生存游戏模拟器\" width=\"120\" height=\"150\" border=\"0\" /></a></div><dl><dt><span>茶味奶糖</span><a href=\"/book/146264/\">欢迎来到生存游戏模拟器</a></dt><dd>【无CP，非解密类生存游戏】当一款大IP制作的网游风靡国内，怀着好奇心下载了生存游戏模拟器的玩家，却真的开始了求生之旅。......</dd></dl></div><div class=\"item\"><div class=\"image\"><a href=\"/book/145364/\"><img src=\"https://www.biqg.cc/bookimg/148/148697.jpg\" alt=\"惊！原来师兄修的是逍遥道\" width=\"120\" height=\"150\" border=\"0\" /></a></div><dl><dt><span>吕子恒</span><a href=\"/book/145364/\">惊！原来师兄修的是逍遥道</a></dt><dd>大师兄勤奋不怠，二师兄偷闲躲静。大师兄被称为天才，二师兄是门派之耻。直到有一天，小师妹发现二师兄也很猛......</dd></dl></div><div class=\"item\"><div class=\"image\"><a href=\"/book/129780/\"><img src=\"https://www.biqg.cc/bookimg/128/128089.jpg\" alt=\"戮神修罗\" width=\"120\" height=\"150\" border=\"0\" /></a></div><dl><dt><span>黄笔</span><a href=\"/book/129780/\">戮神修罗</a></dt><dd>新历0001年，神明降临，入侵地球。经过15年的艰难抗争，人类文明最终走向灭亡！大夏守护神林凡重回神明降临三月前，这一世......</dd></dl></div><div class=\"item\"><div class=\"image\"><a href=\"/book/8890/\"><img src=\"https://www.biqg.cc/bookimg/4/4683.jpg\" alt=\"踏星陆隐\" width=\"120\" height=\"150\" border=\"0\" /></a></div><dl><dt><span>随散飘风</span><a href=\"/book/8890/\">踏星陆隐</a></dt><dd>浩瀚宇宙，无尽种族！恢弘战技，十决横空！远古独姓，百强战榜！以我之名，脚踏星空！2200年的一天，当人类第一次登上海王星......</dd></dl></div><div class=\"item\"><div class=\"image\"><a href=\"/book/10291/\"><img src=\"https://www.biqg.cc/bookimg/12/12330.jpg\" alt=\"亲爱的，该吃药了！\" width=\"120\" height=\"150\" border=\"0\" /></a></div><dl><dt><span>小小小小小小飞</span><a href=\"/book/10291/\">亲爱的，该吃药了！</a></dt><dd>手机阅读《亲爱的，该吃药了！》无弹窗纯文字全文免费阅读“亲爱的，该吃药了！”美丽纯洁的圣女，端来了治疗伤势的药剂。在这一......</dd></dl></div>\n",
      "\t</div>\n",
      "\t<div class=\"page\"><b>1</b><a href=\"/wangyou/2.html\">2</a><a href=\"/wangyou/3.html\">3</a><a href=\"/wangyou/4.html\">4</a><a href=\"/wangyou/5.html\">5</a><a href=\"/wangyou/2.html\">&gt;</a></div>\n",
      "\t<div class=\"loadmore\">加载中……</div>\n",
      "</div>\n",
      "\n",
      "<div class=\"footer_wap pc_none\">\n",
      "\t<a href=\"#top\"><svg class=\"lnr lnr-arrow-up-circle\"><use xlink:href=\"#lnr-arrow-up-circle\"></use></svg></a>\n",
      "\t<p class=\"version channel\">\n",
      "\t<a href=\"/\">首页</a>\n",
      "\t<a href=\"/user/bookcase.html\">我的书架</a>\n",
      "\t<a href=\"/bookcase.html\" >阅读记录</a>\n",
      "\t</p>\n",
      "</div>\n",
      "<div class=\"footer wap_none\">\n",
      "<hr>\n",
      "\t<p>本站所有小说为转载作品，所有章节均由网友上传，转载至本站只是为了宣传本书让更多读者欣赏。</p>\n",
      "\t<p>Copyright &#169; biqg.cc All Rights Reserved.<a href=\"/map/\">网站地图</a> <a href=\"/sitemap_0.xml\">xml</a></p>\n",
      "</div>\n",
      "<script>tj();</script>\n",
      "<script type=\"text/javascript\">\n",
      "var page = 1;var start = true;\n",
      "function loadmore(id){\n",
      "\tpage++;\n",
      "    $.getJSON(\"/json?sortid=\"+id+\"&page=\"+page,function(data){\n",
      "\t\tvar strHtml = \"\";\n",
      "\t\t$.each(data,function(index,val){\n",
      "\t\t\tstrHtml += '<div class=\"item\"><div class=\"image\"><a href=\"'+val.url_list+'\"><img src=\"'+val.url_img+'\" alt=\"'+val.articlename+'\" width=\"120\" height=\"150\" border=\"0\" /></a></div><dl><dt><span>'+val.author+'</span><a href=\"'+val.url_list+'\" target=\"_blank\">'+val.articlename+'</a></dt><dd>'+val.intro+'......</dd></dl></div>';\n",
      "\t\t})\n",
      "\t\tif(strHtml==\"\"){$(\".loadmore\").html('没有了!');return false;}\n",
      "\t\t$(\".hot\").append(strHtml);start=true;\n",
      "\t})\n",
      "}\n",
      "$(document).ready(function(){\n",
      "\t$(window).bind('scroll',function(){\n",
      "\t\tif(start==true && $(window).scrollTop()+$(window).height()+3>=$(document).height()){\n",
      "\t\t\tstart=false;loadmore('5');\n",
      "\t\t}\n",
      "\t})\n",
      "})\n",
      "</script>\n",
      "\n",
      "</body>\n",
      "</html>\n"
     ]
    }
   ],
   "source": [
    "url = 'https://www.biqg.cc/wangyou/'\n",
    "r = requests.get(url)\n",
    "html = r.text\n",
    "print(html)"
   ]
  },
  {
   "cell_type": "code",
   "execution_count": 4,
   "metadata": {},
   "outputs": [
    {
     "name": "stdout",
     "output_type": "stream",
     "text": [
      "['/xuanhuan/', '/wuxia/', '/dushi/', '/lishi/', '/wangyou/', '/kehuan/', '/mm/', '/finish/']\n",
      "['玄幻', '武侠', '都市', '历史', '网游', '科幻', '女生', '完本']\n"
     ]
    }
   ],
   "source": [
    "# 删除首页和排行榜，将数据标准化\n",
    "soup = BeautifulSoup(html, 'html.parser')\n",
    "li_tags = soup.find_all('li')\n",
    "li_tags.pop(0) \n",
    "li_tags.pop(-1)\n",
    "\n",
    "# 获取每个标签的href\n",
    "href_list = []\n",
    "for li_tag in li_tags:\n",
    "    a_tag = li_tag.find('a')\n",
    "    if a_tag:\n",
    "        href_value = a_tag.get('href')\n",
    "        href_list.append(href_value)\n",
    "print(href_list)\n",
    "\n",
    "# 获取每个标签的name\n",
    "tag_list = []\n",
    "for li_tag in li_tags:\n",
    "    a_tag = li_tag.find('a')\n",
    "    tag_list.append(a_tag.text)  \n",
    "print(tag_list)"
   ]
  },
  {
   "cell_type": "code",
   "execution_count": 6,
   "metadata": {},
   "outputs": [
    {
     "name": "stdout",
     "output_type": "stream",
     "text": [
      "['https://www.biqg.cc/xuanhuan/', 'https://www.biqg.cc/wuxia/', 'https://www.biqg.cc/dushi/', 'https://www.biqg.cc/lishi/', 'https://www.biqg.cc/wangyou/', 'https://www.biqg.cc/kehuan/', 'https://www.biqg.cc/mm/', 'https://www.biqg.cc/finish/']\n"
     ]
    }
   ],
   "source": [
    "# 将获取到的href拼接起来，形成每个标签页面的url\n",
    "category_list = []\n",
    "for href in href_list:\n",
    "    category_href = urljoin(url,href)\n",
    "    category_list.append(category_href)\n",
    "print(category_list)"
   ]
  },
  {
   "cell_type": "code",
   "execution_count": 9,
   "metadata": {},
   "outputs": [
    {
     "name": "stdout",
     "output_type": "stream",
     "text": [
      "https://www.biqg.cc/book/134648/\n",
      "['https://www.biqg.cc/book/143308/', 'https://www.biqg.cc/book/134648/', 'https://www.biqg.cc/book/148987/', 'https://www.biqg.cc/book/109312/', 'https://www.biqg.cc/book/3093/', 'https://www.biqg.cc/book/135908/', 'https://www.biqg.cc/book/147096/', 'https://www.biqg.cc/book/147189/', 'https://www.biqg.cc/book/162239/', 'https://www.biqg.cc/book/145331/', 'https://www.biqg.cc/book/155582/', 'https://www.biqg.cc/book/20043/', 'https://www.biqg.cc/book/161837/', 'https://www.biqg.cc/book/154736/', 'https://www.biqg.cc/book/140589/', 'https://www.biqg.cc/book/161187/', 'https://www.biqg.cc/book/102399/', 'https://www.biqg.cc/book/137851/', 'https://www.biqg.cc/book/150539/', 'https://www.biqg.cc/book/152542/', 'https://www.biqg.cc/book/161348/', 'https://www.biqg.cc/book/148812/', 'https://www.biqg.cc/book/147006/', 'https://www.biqg.cc/book/160900/']\n"
     ]
    }
   ],
   "source": [
    "# 获取到每个标签页面的每本书的url\n",
    "def Get_book_url_list(category_list):\n",
    "    book_list = []\n",
    "    for url in category_list:\n",
    "        # 找到每本书的div\n",
    "        r = requests.get(url)\n",
    "        html = r.text\n",
    "        soup = BeautifulSoup(html, 'html.parser')\n",
    "        book = soup.find_all('div', class_='image')\n",
    "        book_3 = book[:3]\n",
    "        for div in book_3:\n",
    "            a_tag = div.find('a')\n",
    "            href_value = a_tag.get('href')\n",
    "            book_url = urljoin(url, href_value)\n",
    "            book_list.append(book_url)\n",
    "    return book_list\n",
    "\n",
    "book_list = Get_book_url_list(category_list)\n",
    "print(book_list[1])\n",
    "print(book_list)"
   ]
  },
  {
   "cell_type": "code",
   "execution_count": null,
   "metadata": {},
   "outputs": [],
   "source": [
    "# 创建数据库连接\n",
    "con = Connection(\n",
    "    host=\"localhost\",# 主机名\n",
    "    port=3306, # 端口\n",
    "    user=\"root\", # 账户\n",
    "    passwd=\"hk123\" # 密码\n",
    ")\n",
    "\n",
    "# 设置游标\n",
    "cursor = con.cursor()\n",
    "# 选择数据库\n",
    "cursor.execute(\"use library\")\n",
    "# 提交结果\n",
    "con.commit()\n",
    "\n",
    "\n",
    "# 执行查询\n",
    "cursor.execute(\"SELECT DISTINCT book_name, title FROM book_content;\")\n",
    "# 获取结果\n",
    "result = cursor.fetchall()\n",
    "print(result)\n",
    "book_name_list = []\n",
    "for i in result:\n",
    "    book_name_list.append(i[0])\n",
    "print(book_name_list)\n",
    "\n",
    "\n",
    "for book_url in book_list:\n",
    "    r = requests.get(book_url)\n",
    "    html = r.text\n",
    "    soup = BeautifulSoup(html,'html.parser')\n",
    "\n",
    "    # 找到标签信息\n",
    "    tag_div = soup.find('div', class_='path')   # 找到包含标签的div\n",
    "    tag = re.search(r'>\\s*(.*?)\\s*>', tag_div.text)\n",
    "    tag = tag.group(1)\n",
    "\n",
    "    # 找到书名\n",
    "    h1 = soup.find('h1')\n",
    "\n",
    "    # 找到作者名\n",
    "    author_div = soup.find('div', class_='small')   # 找到包含作者信息的div标签\n",
    "    author_span = author_div.select_one('div.small span:contains(\"作者\")')  # 找到包含作者信息的<span>标签\n",
    "    author = author_span.text.split('：')[1]    # 提取作者信息\n",
    "    print(h1.text)\n",
    "\n",
    "    # if h1.text not in book_name_list:\n",
    "    #     insert_sql = \"INSERT INTO books (book_name, author, tag) VALUES (%s, %s, %s)\"\n",
    "    #     cursor.execute(insert_sql, (h1.text, author, tag))\n",
    "    #     con.commit() # 提交结果\n",
    "    #     print(f\"{h1.text}---{author}---{tag}---写入成功！\")\n",
    "    print(\"=================\")\n",
    "\n",
    "\n",
    "con.close()"
   ]
  },
  {
   "cell_type": "code",
   "execution_count": null,
   "metadata": {},
   "outputs": [],
   "source": []
  },
  {
   "cell_type": "code",
   "execution_count": null,
   "metadata": {},
   "outputs": [],
   "source": []
  },
  {
   "cell_type": "code",
   "execution_count": null,
   "metadata": {},
   "outputs": [],
   "source": []
  }
 ],
 "metadata": {
  "kernelspec": {
   "display_name": "Python 3",
   "language": "python",
   "name": "python3"
  },
  "language_info": {
   "codemirror_mode": {
    "name": "ipython",
    "version": 3
   },
   "file_extension": ".py",
   "mimetype": "text/x-python",
   "name": "python",
   "nbconvert_exporter": "python",
   "pygments_lexer": "ipython3",
   "version": "3.10.6"
  }
 },
 "nbformat": 4,
 "nbformat_minor": 2
}
