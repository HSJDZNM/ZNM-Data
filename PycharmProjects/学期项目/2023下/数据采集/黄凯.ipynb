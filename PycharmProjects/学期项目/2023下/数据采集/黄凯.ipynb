{
 "cells": [
  {
   "cell_type": "code",
   "execution_count": 5,
   "id": "dd5aae4e-85a3-4799-be90-12f71ec9b864",
   "metadata": {},
   "outputs": [],
   "source": [
    "import requests\n",
    "from bs4 import BeautifulSoup\n",
    "sm=input()\n",
    "url=f'http://search.dangdang.com/?key={sm}&act=input'\n",
    "headers={'User-Agent': 'Mozilla/5.0 (Windows NT 10.0; Win64; x64) AppleWebKit/537.36 (KHTML, like Gecko) Chrome/95.0.4638.69 Safari/537.36'}\n",
    "res=requests.get(url,headers=headers)\n",
    "soup = BeautifulSoup(res.text,\"html.parser\")"
   ]
  },
  {
   "cell_type": "code",
   "execution_count": 6,
   "id": "d1904968-5e07-4b80-ba0d-5e87cf6f7a1e",
   "metadata": {},
   "outputs": [],
   "source": [
    "zyy=soup.find_all(class_=\"paging\")[0].find_all(class_=\"null\")\n",
    "zs=[]\n",
    "z='http://search.dangdang.com'+soup.find_all(class_=\"paging\")[0].find_all(class_=\"current\")[0].get('href')\n",
    "zs.append(z)\n",
    "for i in zyy:\n",
    "    z=i.get('href')\n",
    "    zs.append('http://search.dangdang.com'+z)\n",
    "ss=[]\n",
    "for s in zs:\n",
    "    res=requests.get(s,headers=headers)\n",
    "    soup=BeautifulSoup(res.text,\"html.parser\")\n",
    "    ss.append(soup)"
   ]
  },
  {
   "cell_type": "code",
   "execution_count": 11,
   "id": "c911ef01-d2a7-4ee3-bebd-4957552f191e",
   "metadata": {},
   "outputs": [],
   "source": [
    "d=[]\n",
    "ds=[]\n",
    "y=1\n",
    "for i in ss:\n",
    "    s=ss[0].find_all(class_=\"bigimg\")[0].find_all('li')\n",
    "    for v in s:\n",
    "        if len(ds)==300:break\n",
    "        shum=v.find_all('a')[0].get('title')\n",
    "        \n",
    "        if len(v.find_all('a'))>7:\n",
    "            cbs=v.find_all('a')[7].get('title')\n",
    "        else:\n",
    "            cbs='暂无出版社'\n",
    "        money=v.find_all(class_=\"search_now_price\")[0].text\n",
    "        if y==1:\n",
    "            tp1='http:'+v.find_all('a')[0].find('img').get('src')\n",
    "            d.append(tp1)\n",
    "            y+=1\n",
    "        else:\n",
    "            tp='http:'+str(v.find_all('a')[0].find('img').get('data-original'))\n",
    "            d.append(tp)\n",
    "        d.append(shum)\n",
    "        d.append(cbs)\n",
    "        d.append(money)\n",
    "        ds.append(d)\n",
    "        d=[]"
   ]
  },
  {
   "cell_type": "code",
   "execution_count": 12,
   "id": "925a99d7-3f13-4587-a918-6e352134b5ee",
   "metadata": {},
   "outputs": [],
   "source": [
    "import csv\n",
    "with open('./300.csv','w',newline='',encoding='UTF-8-sig')as fp:\n",
    "    writer=csv.writer(fp)\n",
    "    writer.writerows(ds)"
   ]
  },
  {
   "cell_type": "code",
   "execution_count": 14,
   "id": "d13be560-fa01-427c-a361-1dca6608b7d9",
   "metadata": {},
   "outputs": [
    {
     "name": "stdout",
     "output_type": "stream",
     "text": [
      "http:None\n",
      "http:None\n",
      "http:None\n",
      "http:None\n",
      "296\n"
     ]
    }
   ],
   "source": [
    "import os\n",
    "z=0\n",
    "for i in ds:\n",
    "    try:\n",
    "        res=requests.get(i[0])\n",
    "        pic=res.content\n",
    "        mz=i[1].replace('*','')\n",
    "        if not os.path.exists(\"st\"):\n",
    "            os.makedirs(\"st\")\n",
    "        with open(f'st\\{mz}{z}.jpg','wb') as fp:\n",
    "            fp.write(pic)\n",
    "            z+=1\n",
    "    except Exception as e:\n",
    "        print(i[0])\n",
    "print(z)"
   ]
  },
  {
   "cell_type": "code",
   "execution_count": null,
   "id": "1d5af34c",
   "metadata": {},
   "outputs": [],
   "source": []
  }
 ],
 "metadata": {
  "kernelspec": {
   "display_name": "Python 3 (ipykernel)",
   "language": "python",
   "name": "python3"
  },
  "language_info": {
   "codemirror_mode": {
    "name": "ipython",
    "version": 3
   },
   "file_extension": ".py",
   "mimetype": "text/x-python",
   "name": "python",
   "nbconvert_exporter": "python",
   "pygments_lexer": "ipython3",
   "version": "3.10.6"
  }
 },
 "nbformat": 4,
 "nbformat_minor": 5
}
