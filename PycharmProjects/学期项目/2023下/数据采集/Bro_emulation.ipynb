{
 "cells": [
  {
   "cell_type": "code",
   "execution_count": 26,
   "metadata": {},
   "outputs": [],
   "source": [
    "# edge测试：\n",
    "from selenium import webdriver\n",
    "from selenium.webdriver.common.by import By\n",
    "import time\n",
    "from selenium.webdriver import ActionChains\n",
    "from selenium.webdriver.chrome.service import Service\n",
    "from selenium.webdriver.chrome.options import Options"
   ]
  },
  {
   "cell_type": "code",
   "execution_count": 7,
   "metadata": {},
   "outputs": [
    {
     "name": "stdout",
     "output_type": "stream",
     "text": [
      "old\n",
      "（人）……岁的，（事物）存在……久的；年老的，年纪大的；衰老的；古老的，历史悠久的；陈旧的；过去的，从前的；原来（属于自己的）的；结识久的；<非正式>（表示亲昵）老……；（语言形式）古的，早期的；老派的，守旧的；老一套的，经历多次的；老年人；某个年龄段的人；古时；【名】 （Old）（英）奥尔德（人名）；\n"
     ]
    }
   ],
   "source": [
    "driver = webdriver.Edge()\n",
    "url = 'https://fanyi.youdao.com/index.html#/'\n",
    "driver.get(url)\n",
    "\n",
    "txt=input()\n",
    "inp=driver.find_element(By.XPATH,'//*[@id=\"js_fanyi_input\"]')\n",
    "inp.send_keys(txt)\n",
    "\n",
    "inp_y=driver.find_element(By.XPATH,'//*[@id=\"app\"]/div[1]/div[2]/div[2]/div/div[2]/div[1]/div/div[2]/div/div/div')\n",
    "print(inp_y.text)"
   ]
  },
  {
   "cell_type": "code",
   "execution_count": 19,
   "metadata": {},
   "outputs": [
    {
     "ename": "IndexError",
     "evalue": "list index out of range",
     "output_type": "error",
     "traceback": [
      "\u001b[1;31m---------------------------------------------------------------------------\u001b[0m",
      "\u001b[1;31mIndexError\u001b[0m                                Traceback (most recent call last)",
      "\u001b[1;32mc:\\Users\\dell\\Desktop\\PycharmProjects\\学期项目\\2023下\\数据采集\\Bro_emulation.ipynb 单元格 3\u001b[0m line \u001b[0;36m8\n\u001b[0;32m      <a href='vscode-notebook-cell:/c%3A/Users/dell/Desktop/PycharmProjects/%E5%AD%A6%E6%9C%9F%E9%A1%B9%E7%9B%AE/2023%E4%B8%8B/%E6%95%B0%E6%8D%AE%E9%87%87%E9%9B%86/Bro_emulation.ipynb#W2sZmlsZQ%3D%3D?line=5'>6</a>\u001b[0m res \u001b[39m=\u001b[39m driver\u001b[39m.\u001b[39mfind_elements(By\u001b[39m.\u001b[39mCLASS_NAME,\u001b[39m'\u001b[39m\u001b[39mcontson\u001b[39m\u001b[39m'\u001b[39m)\n\u001b[0;32m      <a href='vscode-notebook-cell:/c%3A/Users/dell/Desktop/PycharmProjects/%E5%AD%A6%E6%9C%9F%E9%A1%B9%E7%9B%AE/2023%E4%B8%8B/%E6%95%B0%E6%8D%AE%E9%87%87%E9%9B%86/Bro_emulation.ipynb#W2sZmlsZQ%3D%3D?line=6'>7</a>\u001b[0m \u001b[39mfor\u001b[39;00m i \u001b[39min\u001b[39;00m \u001b[39mrange\u001b[39m(\u001b[39mlen\u001b[39m(res)):\n\u001b[1;32m----> <a href='vscode-notebook-cell:/c%3A/Users/dell/Desktop/PycharmProjects/%E5%AD%A6%E6%9C%9F%E9%A1%B9%E7%9B%AE/2023%E4%B8%8B/%E6%95%B0%E6%8D%AE%E9%87%87%E9%9B%86/Bro_emulation.ipynb#W2sZmlsZQ%3D%3D?line=7'>8</a>\u001b[0m     \u001b[39mprint\u001b[39m(res_t[i]\u001b[39m.\u001b[39mtext)\n\u001b[0;32m      <a href='vscode-notebook-cell:/c%3A/Users/dell/Desktop/PycharmProjects/%E5%AD%A6%E6%9C%9F%E9%A1%B9%E7%9B%AE/2023%E4%B8%8B/%E6%95%B0%E6%8D%AE%E9%87%87%E9%9B%86/Bro_emulation.ipynb#W2sZmlsZQ%3D%3D?line=8'>9</a>\u001b[0m     \u001b[39mprint\u001b[39m(res_a[i]\u001b[39m.\u001b[39mtext)\n\u001b[0;32m     <a href='vscode-notebook-cell:/c%3A/Users/dell/Desktop/PycharmProjects/%E5%AD%A6%E6%9C%9F%E9%A1%B9%E7%9B%AE/2023%E4%B8%8B/%E6%95%B0%E6%8D%AE%E9%87%87%E9%9B%86/Bro_emulation.ipynb#W2sZmlsZQ%3D%3D?line=9'>10</a>\u001b[0m     \u001b[39mprint\u001b[39m(res[i]\u001b[39m.\u001b[39mtext)\n",
      "\u001b[1;31mIndexError\u001b[0m: list index out of range"
     ]
    }
   ],
   "source": [
    "driver = webdriver.Edge()\n",
    "url = 'https://www.gushiwen.cn/'\n",
    "driver.get(url)\n",
    "res_t = driver.find_elements(By.XPATH,'//*[@id=\"zhengwene6e653d1ac27\"]/p[1]/a/b')\n",
    "res_a = driver.find_elements(By.XPATH,'//*[@id=\"zhengwene6e653d1ac27\"]/p[2]')\n",
    "res = driver.find_elements(By.CLASS_NAME,'contson')\n",
    "for i in range(len(res)):\n",
    "    print(res_t[i].text)\n",
    "    print(res_a[i].text)\n",
    "    print(res[i].text)\n",
    "    print(\"*\" * 28)\n",
    "    # with open('text.txt','w',encoding='utf8') as f:\n",
    "    #     f.write(res_t[i].text+\"/n\")\n",
    "    #     f.write(res_a[i].text+'/n')\n",
    "    #     f.write(res[i].text)\n",
    "    #     f.write(\"*\" * 20)\n",
    "        "
   ]
  },
  {
   "cell_type": "code",
   "execution_count": 27,
   "metadata": {},
   "outputs": [
    {
     "data": {
      "text/plain": [
       "10"
      ]
     },
     "execution_count": 27,
     "metadata": {},
     "output_type": "execute_result"
    }
   ],
   "source": [
    "len(res)"
   ]
  },
  {
   "cell_type": "code",
   "execution_count": 28,
   "metadata": {},
   "outputs": [
    {
     "ename": "NoSuchWindowException",
     "evalue": "Message: no such window: target window already closed\nfrom unknown error: web view not found\n  (Session info: MicrosoftEdge=119.0.2151.72)\nStacktrace:\n\tGetHandleVerifier [0x00007FF7D75E2602+60402]\n\tMicrosoft::Applications::Events::ILogConfiguration::operator* [0x00007FF7D7567352+253666]\n\t(No symbol) [0x00007FF7D7339C99]\n\t(No symbol) [0x00007FF7D7310C14]\n\t(No symbol) [0x00007FF7D73AFEAD]\n\t(No symbol) [0x00007FF7D73C4A78]\n\t(No symbol) [0x00007FF7D73AB863]\n\t(No symbol) [0x00007FF7D737C585]\n\t(No symbol) [0x00007FF7D737B993]\n\t(No symbol) [0x00007FF7D737CD14]\n\tMicrosoft::Applications::Events::EventProperty::to_string [0x00007FF7D77C34A4+1161924]\n\t(No symbol) [0x00007FF7D73FE5F6]\n\tMicrosoft::Applications::Events::EventProperty::~EventProperty [0x00007FF7D74BB083+37459]\n\tMicrosoft::Applications::Events::EventProperty::~EventProperty [0x00007FF7D74B2C4D+3613]\n\tMicrosoft::Applications::Events::EventProperty::to_string [0x00007FF7D77C21E4+1157124]\n\tMicrosoft::Applications::Events::ILogConfiguration::operator* [0x00007FF7D75716A8+295480]\n\tMicrosoft::Applications::Events::ILogConfiguration::operator* [0x00007FF7D756CB74+276228]\n\tMicrosoft::Applications::Events::ILogConfiguration::operator* [0x00007FF7D756CCA2+276530]\n\tMicrosoft::Applications::Events::ILogConfiguration::operator* [0x00007FF7D755FA91+222753]\n\tBaseThreadInitThunk [0x00007FFC5D1A257D+29]\n\tRtlUserThreadStart [0x00007FFC5E7AAA58+40]\n",
     "output_type": "error",
     "traceback": [
      "\u001b[1;31m---------------------------------------------------------------------------\u001b[0m",
      "\u001b[1;31mNoSuchWindowException\u001b[0m                     Traceback (most recent call last)",
      "\u001b[1;32mc:\\Users\\dell\\Desktop\\PycharmProjects\\学期项目\\2023下\\数据采集\\Bro_emulation.ipynb 单元格 5\u001b[0m line \u001b[0;36m2\n\u001b[0;32m      <a href='vscode-notebook-cell:/c%3A/Users/dell/Desktop/PycharmProjects/%E5%AD%A6%E6%9C%9F%E9%A1%B9%E7%9B%AE/2023%E4%B8%8B/%E6%95%B0%E6%8D%AE%E9%87%87%E9%9B%86/Bro_emulation.ipynb#W3sZmlsZQ%3D%3D?line=0'>1</a>\u001b[0m \u001b[39m# son1 = driver.find_element(By.CLASS_NAME,'son1')\u001b[39;00m\n\u001b[1;32m----> <a href='vscode-notebook-cell:/c%3A/Users/dell/Desktop/PycharmProjects/%E5%AD%A6%E6%9C%9F%E9%A1%B9%E7%9B%AE/2023%E4%B8%8B/%E6%95%B0%E6%8D%AE%E9%87%87%E9%9B%86/Bro_emulation.ipynb#W3sZmlsZQ%3D%3D?line=1'>2</a>\u001b[0m son1 \u001b[39m=\u001b[39m driver\u001b[39m.\u001b[39;49mfind_elements(By\u001b[39m.\u001b[39;49mCLASS_NAME,\u001b[39m'\u001b[39;49m\u001b[39mson1\u001b[39;49m\u001b[39m'\u001b[39;49m)[\u001b[39m0\u001b[39m]  \u001b[39m#list\u001b[39;00m\n\u001b[0;32m      <a href='vscode-notebook-cell:/c%3A/Users/dell/Desktop/PycharmProjects/%E5%AD%A6%E6%9C%9F%E9%A1%B9%E7%9B%AE/2023%E4%B8%8B/%E6%95%B0%E6%8D%AE%E9%87%87%E9%9B%86/Bro_emulation.ipynb#W3sZmlsZQ%3D%3D?line=2'>3</a>\u001b[0m aas \u001b[39m=\u001b[39m son1\u001b[39m.\u001b[39mfind_elements(By\u001b[39m.\u001b[39mTAG_NAME,\u001b[39m'\u001b[39m\u001b[39ma\u001b[39m\u001b[39m'\u001b[39m)\n\u001b[0;32m      <a href='vscode-notebook-cell:/c%3A/Users/dell/Desktop/PycharmProjects/%E5%AD%A6%E6%9C%9F%E9%A1%B9%E7%9B%AE/2023%E4%B8%8B/%E6%95%B0%E6%8D%AE%E9%87%87%E9%9B%86/Bro_emulation.ipynb#W3sZmlsZQ%3D%3D?line=3'>4</a>\u001b[0m \u001b[39mprint\u001b[39m(\u001b[39mlen\u001b[39m(aas))\n",
      "File \u001b[1;32mc:\\Users\\dell\\AppData\\Local\\Programs\\Python\\Python310\\lib\\site-packages\\selenium\\webdriver\\remote\\webdriver.py:771\u001b[0m, in \u001b[0;36mWebDriver.find_elements\u001b[1;34m(self, by, value)\u001b[0m\n\u001b[0;32m    767\u001b[0m     value \u001b[39m=\u001b[39m \u001b[39mf\u001b[39m\u001b[39m'\u001b[39m\u001b[39m[name=\u001b[39m\u001b[39m\"\u001b[39m\u001b[39m{\u001b[39;00mvalue\u001b[39m}\u001b[39;00m\u001b[39m\"\u001b[39m\u001b[39m]\u001b[39m\u001b[39m'\u001b[39m\n\u001b[0;32m    769\u001b[0m \u001b[39m# Return empty list if driver returns null\u001b[39;00m\n\u001b[0;32m    770\u001b[0m \u001b[39m# See https://github.com/SeleniumHQ/selenium/issues/4555\u001b[39;00m\n\u001b[1;32m--> 771\u001b[0m \u001b[39mreturn\u001b[39;00m \u001b[39mself\u001b[39;49m\u001b[39m.\u001b[39;49mexecute(Command\u001b[39m.\u001b[39;49mFIND_ELEMENTS, {\u001b[39m\"\u001b[39;49m\u001b[39musing\u001b[39;49m\u001b[39m\"\u001b[39;49m: by, \u001b[39m\"\u001b[39;49m\u001b[39mvalue\u001b[39;49m\u001b[39m\"\u001b[39;49m: value})[\u001b[39m\"\u001b[39m\u001b[39mvalue\u001b[39m\u001b[39m\"\u001b[39m] \u001b[39mor\u001b[39;00m []\n",
      "File \u001b[1;32mc:\\Users\\dell\\AppData\\Local\\Programs\\Python\\Python310\\lib\\site-packages\\selenium\\webdriver\\remote\\webdriver.py:347\u001b[0m, in \u001b[0;36mWebDriver.execute\u001b[1;34m(self, driver_command, params)\u001b[0m\n\u001b[0;32m    345\u001b[0m response \u001b[39m=\u001b[39m \u001b[39mself\u001b[39m\u001b[39m.\u001b[39mcommand_executor\u001b[39m.\u001b[39mexecute(driver_command, params)\n\u001b[0;32m    346\u001b[0m \u001b[39mif\u001b[39;00m response:\n\u001b[1;32m--> 347\u001b[0m     \u001b[39mself\u001b[39;49m\u001b[39m.\u001b[39;49merror_handler\u001b[39m.\u001b[39;49mcheck_response(response)\n\u001b[0;32m    348\u001b[0m     response[\u001b[39m\"\u001b[39m\u001b[39mvalue\u001b[39m\u001b[39m\"\u001b[39m] \u001b[39m=\u001b[39m \u001b[39mself\u001b[39m\u001b[39m.\u001b[39m_unwrap_value(response\u001b[39m.\u001b[39mget(\u001b[39m\"\u001b[39m\u001b[39mvalue\u001b[39m\u001b[39m\"\u001b[39m, \u001b[39mNone\u001b[39;00m))\n\u001b[0;32m    349\u001b[0m     \u001b[39mreturn\u001b[39;00m response\n",
      "File \u001b[1;32mc:\\Users\\dell\\AppData\\Local\\Programs\\Python\\Python310\\lib\\site-packages\\selenium\\webdriver\\remote\\errorhandler.py:229\u001b[0m, in \u001b[0;36mErrorHandler.check_response\u001b[1;34m(self, response)\u001b[0m\n\u001b[0;32m    227\u001b[0m         alert_text \u001b[39m=\u001b[39m value[\u001b[39m\"\u001b[39m\u001b[39malert\u001b[39m\u001b[39m\"\u001b[39m]\u001b[39m.\u001b[39mget(\u001b[39m\"\u001b[39m\u001b[39mtext\u001b[39m\u001b[39m\"\u001b[39m)\n\u001b[0;32m    228\u001b[0m     \u001b[39mraise\u001b[39;00m exception_class(message, screen, stacktrace, alert_text)  \u001b[39m# type: ignore[call-arg]  # mypy is not smart enough here\u001b[39;00m\n\u001b[1;32m--> 229\u001b[0m \u001b[39mraise\u001b[39;00m exception_class(message, screen, stacktrace)\n",
      "\u001b[1;31mNoSuchWindowException\u001b[0m: Message: no such window: target window already closed\nfrom unknown error: web view not found\n  (Session info: MicrosoftEdge=119.0.2151.72)\nStacktrace:\n\tGetHandleVerifier [0x00007FF7D75E2602+60402]\n\tMicrosoft::Applications::Events::ILogConfiguration::operator* [0x00007FF7D7567352+253666]\n\t(No symbol) [0x00007FF7D7339C99]\n\t(No symbol) [0x00007FF7D7310C14]\n\t(No symbol) [0x00007FF7D73AFEAD]\n\t(No symbol) [0x00007FF7D73C4A78]\n\t(No symbol) [0x00007FF7D73AB863]\n\t(No symbol) [0x00007FF7D737C585]\n\t(No symbol) [0x00007FF7D737B993]\n\t(No symbol) [0x00007FF7D737CD14]\n\tMicrosoft::Applications::Events::EventProperty::to_string [0x00007FF7D77C34A4+1161924]\n\t(No symbol) [0x00007FF7D73FE5F6]\n\tMicrosoft::Applications::Events::EventProperty::~EventProperty [0x00007FF7D74BB083+37459]\n\tMicrosoft::Applications::Events::EventProperty::~EventProperty [0x00007FF7D74B2C4D+3613]\n\tMicrosoft::Applications::Events::EventProperty::to_string [0x00007FF7D77C21E4+1157124]\n\tMicrosoft::Applications::Events::ILogConfiguration::operator* [0x00007FF7D75716A8+295480]\n\tMicrosoft::Applications::Events::ILogConfiguration::operator* [0x00007FF7D756CB74+276228]\n\tMicrosoft::Applications::Events::ILogConfiguration::operator* [0x00007FF7D756CCA2+276530]\n\tMicrosoft::Applications::Events::ILogConfiguration::operator* [0x00007FF7D755FA91+222753]\n\tBaseThreadInitThunk [0x00007FFC5D1A257D+29]\n\tRtlUserThreadStart [0x00007FFC5E7AAA58+40]\n"
     ]
    }
   ],
   "source": [
    "# son1 = driver.find_element(By.CLASS_NAME,'son1')\n",
    "son1 = driver.find_elements(By.CLASS_NAME,'son1')[0]  #list\n",
    "aas = son1.find_elements(By.TAG_NAME,'a')\n",
    "print(len(aas))"
   ]
  }
 ],
 "metadata": {
  "kernelspec": {
   "display_name": "Python 3",
   "language": "python",
   "name": "python3"
  },
  "language_info": {
   "codemirror_mode": {
    "name": "ipython",
    "version": 3
   },
   "file_extension": ".py",
   "mimetype": "text/x-python",
   "name": "python",
   "nbconvert_exporter": "python",
   "pygments_lexer": "ipython3",
   "version": "3.10.6"
  }
 },
 "nbformat": 4,
 "nbformat_minor": 2
}
