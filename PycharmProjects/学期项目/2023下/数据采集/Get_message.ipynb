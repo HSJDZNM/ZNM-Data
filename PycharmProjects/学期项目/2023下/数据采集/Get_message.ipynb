{
 "cells": [
  {
   "cell_type": "code",
   "execution_count": null,
   "metadata": {},
   "outputs": [],
   "source": [
    "from bs4 import BeautifulSoup\n",
    "import requests\n",
    "import csv\n",
    "from selenium import webdriver\n",
    "from selenium.webdriver.common.by import By\n",
    "import time\n",
    "from selenium.webdriver import ActionChains\n",
    "from selenium.webdriver.chrome.service import Service\n",
    "from selenium.webdriver.chrome.options import Options"
   ]
  },
  {
   "cell_type": "code",
   "execution_count": 55,
   "metadata": {},
   "outputs": [
    {
     "name": "stdout",
     "output_type": "stream",
     "text": [
      "['人工智能公司OpenAI“宫斗大戏”落幕 公司或遭重创http://intl.ce.cn/qqss/202311/27/t20231127_38806737.shtml', '“从国王到流亡者再到国王”,阿尔特曼重返OpenAIhttps://baijiahao.baidu.com/s?id=1783669944257619251&wfr=spider&for=pc', 'GPT成熟之路官方笔记 | OpenAI开发者日_澎湃号·湃客_澎湃新闻...https://www.thepaper.cn/newsDetail_forward_25434776', '“从国王到流亡者再到国王”,阿尔特曼重返OpenAIhttps://news.dayoo.com/world/202311/27/139998_54608061.htm', '关于OpenAI神秘项目“Q*”的N个猜想https://baijiahao.baidu.com/s?id=1783687157618271635&wfr=spider&for=pc', '全网大讨论:引爆OpenAI全员乱斗的Q*到底是什么?https://www.thepaper.cn/newsDetail_forward_25428108?commTag=true', 'OpenAI神秘项目“Q星”浮出水面,它会威胁人类吗?http://news.cqnews.net/1/detail/1178484457778515968/web/content_1178484457778515968.html', 'OpenAI“地震”始末:理想主义的烈焰与现实的海洋https://baijiahao.baidu.com/s?id=1783155651283644616&wfr=spider&for=pc', '...马斯克:机器人Optimus的制造成本将低于汽车;业内热议OpenAI...http://app.myzaker.com/news/article.php?pk=6563f9c68e9f09785970d109']\n"
     ]
    }
   ],
   "source": [
    "driver = webdriver.Edge()\n",
    "url = 'https://www.baidu.com/s?tn=news&rtt=1&bsst=1&wd=openai&cl=2'\n",
    "driver.get(url)\n",
    "csv_file = \"Message.csv\"\n",
    "\n",
    "h3_tags = driver.find_elements(By.CLASS_NAME, \"news-title_1YtI1\")\n",
    "Messages = []\n",
    "for h3_tag in h3_tags:\n",
    "    a_tag = h3_tag.find_element(By.TAG_NAME, 'a')\n",
    "    href = a_tag.get_attribute('href')\n",
    "    Message = h3_tag.text + href\n",
    "    Messages.append(Message)\n",
    "print(Messages)\n",
    "driver.quit()"
   ]
  },
  {
   "cell_type": "code",
   "execution_count": 56,
   "metadata": {},
   "outputs": [
    {
     "name": "stdout",
     "output_type": "stream",
     "text": [
      "Data has been written to Message.csv\n"
     ]
    }
   ],
   "source": [
    "with open(csv_file, 'w', newline='', encoding='utf8') as f:\n",
    "    writer = csv.writer(f)\n",
    "    for i in Messages:\n",
    "        writer.writerow([i])\n",
    "\n",
    "print(f'Data has been written to {csv_file}')"
   ]
  }
 ],
 "metadata": {
  "kernelspec": {
   "display_name": "Python 3",
   "language": "python",
   "name": "python3"
  },
  "language_info": {
   "codemirror_mode": {
    "name": "ipython",
    "version": 3
   },
   "file_extension": ".py",
   "mimetype": "text/x-python",
   "name": "python",
   "nbconvert_exporter": "python",
   "pygments_lexer": "ipython3",
   "version": "3.10.6"
  }
 },
 "nbformat": 4,
 "nbformat_minor": 2
}
